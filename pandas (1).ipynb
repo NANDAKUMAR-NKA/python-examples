{
 "cells": [
  {
   "cell_type": "code",
   "execution_count": 1,
   "id": "43d2537b-2d36-4bbf-b0f3-b7b6d49a04c1",
   "metadata": {},
   "outputs": [],
   "source": [
    "import pandas as pd"
   ]
  },
  {
   "cell_type": "code",
   "execution_count": 2,
   "id": "1f81f865-cf09-4e04-93d0-7ebeda44b4ec",
   "metadata": {},
   "outputs": [],
   "source": [
    "list1=[1,2,6,8,3,7]"
   ]
  },
  {
   "cell_type": "code",
   "execution_count": 3,
   "id": "c0ccd93e-7819-44b2-9e49-ed807eca5064",
   "metadata": {},
   "outputs": [],
   "source": [
    "ser1=pd.Series(list1)"
   ]
  },
  {
   "cell_type": "code",
   "execution_count": 4,
   "id": "afd84204-2409-4f23-b916-8fbbbb577427",
   "metadata": {},
   "outputs": [
    {
     "data": {
      "text/plain": [
       "0    1\n",
       "1    2\n",
       "2    6\n",
       "3    8\n",
       "4    3\n",
       "5    7\n",
       "dtype: int64"
      ]
     },
     "execution_count": 4,
     "metadata": {},
     "output_type": "execute_result"
    }
   ],
   "source": [
    "ser1"
   ]
  },
  {
   "cell_type": "code",
   "execution_count": 5,
   "id": "d2f2b4f7-53be-479a-ab68-f5b498b89c28",
   "metadata": {},
   "outputs": [],
   "source": [
    "list2=[\"nandu\",\"sabeeda\",\"hazib\",\"anil\"]"
   ]
  },
  {
   "cell_type": "code",
   "execution_count": 6,
   "id": "0f5fd0de-3752-4add-bb57-699edc11a56f",
   "metadata": {},
   "outputs": [],
   "source": [
    "ser2=pd.Series(list2)"
   ]
  },
  {
   "cell_type": "code",
   "execution_count": 7,
   "id": "21e2ff5d-9bfd-4d42-88f2-8ef527b301c3",
   "metadata": {},
   "outputs": [
    {
     "data": {
      "text/plain": [
       "0      nandu\n",
       "1    sabeeda\n",
       "2      hazib\n",
       "3       anil\n",
       "dtype: object"
      ]
     },
     "execution_count": 7,
     "metadata": {},
     "output_type": "execute_result"
    }
   ],
   "source": [
    "ser2"
   ]
  },
  {
   "cell_type": "code",
   "execution_count": 8,
   "id": "ff834ce7-8bbe-468b-af36-ef4009b919d7",
   "metadata": {},
   "outputs": [],
   "source": [
    "import numpy as np"
   ]
  },
  {
   "cell_type": "code",
   "execution_count": 9,
   "id": "d8ca7caf-0513-420c-a799-60d621fe712f",
   "metadata": {},
   "outputs": [],
   "source": [
    "n=np.arange(4,80,4)"
   ]
  },
  {
   "cell_type": "code",
   "execution_count": 10,
   "id": "db155127-3c42-4e94-b544-b9201074a92d",
   "metadata": {},
   "outputs": [],
   "source": [
    "ser3=pd.Series(n)"
   ]
  },
  {
   "cell_type": "code",
   "execution_count": 11,
   "id": "dac13558-887b-4f75-9693-f6f8785f054c",
   "metadata": {},
   "outputs": [
    {
     "data": {
      "text/plain": [
       "0      4\n",
       "1      8\n",
       "2     12\n",
       "3     16\n",
       "4     20\n",
       "5     24\n",
       "6     28\n",
       "7     32\n",
       "8     36\n",
       "9     40\n",
       "10    44\n",
       "11    48\n",
       "12    52\n",
       "13    56\n",
       "14    60\n",
       "15    64\n",
       "16    68\n",
       "17    72\n",
       "18    76\n",
       "dtype: int32"
      ]
     },
     "execution_count": 11,
     "metadata": {},
     "output_type": "execute_result"
    }
   ],
   "source": [
    "ser3"
   ]
  },
  {
   "cell_type": "code",
   "execution_count": 12,
   "id": "bacfcdf9-3fdb-4edc-98a0-f6aaa582b811",
   "metadata": {},
   "outputs": [
    {
     "data": {
      "text/plain": [
       "0      nandu\n",
       "1    sabeeda\n",
       "2      hazib\n",
       "3       anil\n",
       "dtype: object"
      ]
     },
     "execution_count": 12,
     "metadata": {},
     "output_type": "execute_result"
    }
   ],
   "source": [
    "ser2"
   ]
  },
  {
   "cell_type": "code",
   "execution_count": 13,
   "id": "bda9470d-041d-4b7c-aeaf-1974bce095d0",
   "metadata": {},
   "outputs": [
    {
     "data": {
      "text/plain": [
       "'hazib'"
      ]
     },
     "execution_count": 13,
     "metadata": {},
     "output_type": "execute_result"
    }
   ],
   "source": [
    "ser2[2]"
   ]
  },
  {
   "cell_type": "code",
   "execution_count": 14,
   "id": "418a1b52-8820-47fc-8e3f-c994cdfd3554",
   "metadata": {},
   "outputs": [
    {
     "data": {
      "text/plain": [
       "0      nandu\n",
       "1    sabeeda\n",
       "2      hazib\n",
       "dtype: object"
      ]
     },
     "execution_count": 14,
     "metadata": {},
     "output_type": "execute_result"
    }
   ],
   "source": [
    "ser2[0:3]"
   ]
  },
  {
   "cell_type": "code",
   "execution_count": 15,
   "id": "3d459946-9a71-4167-b2c9-f5f583af38a4",
   "metadata": {},
   "outputs": [
    {
     "data": {
      "text/plain": [
       "0    nandu\n",
       "2    hazib\n",
       "dtype: object"
      ]
     },
     "execution_count": 15,
     "metadata": {},
     "output_type": "execute_result"
    }
   ],
   "source": [
    "ser2[::2]"
   ]
  },
  {
   "cell_type": "code",
   "execution_count": 16,
   "id": "bf67b1f3-7f0b-4856-9923-5669f832a585",
   "metadata": {},
   "outputs": [],
   "source": [
    "ser4=pd.Series(list2,index=[\"a\",\"b\",\"c\",\"d\"])"
   ]
  },
  {
   "cell_type": "code",
   "execution_count": 17,
   "id": "9834c332-12e4-4310-b312-e6cc1bc4c48a",
   "metadata": {},
   "outputs": [
    {
     "data": {
      "text/plain": [
       "a      nandu\n",
       "b    sabeeda\n",
       "c      hazib\n",
       "d       anil\n",
       "dtype: object"
      ]
     },
     "execution_count": 17,
     "metadata": {},
     "output_type": "execute_result"
    }
   ],
   "source": [
    "ser4"
   ]
  },
  {
   "cell_type": "code",
   "execution_count": 18,
   "id": "5691e1dc-ad6b-40bd-8069-fd768f891dc7",
   "metadata": {},
   "outputs": [
    {
     "data": {
      "text/plain": [
       "'hazib'"
      ]
     },
     "execution_count": 18,
     "metadata": {},
     "output_type": "execute_result"
    }
   ],
   "source": [
    "ser4[\"c\"]"
   ]
  },
  {
   "cell_type": "code",
   "execution_count": 19,
   "id": "ad144924-d6c9-4c57-9c04-64abd806f7fb",
   "metadata": {},
   "outputs": [
    {
     "data": {
      "text/plain": [
       "0      4\n",
       "1      8\n",
       "2     12\n",
       "3     16\n",
       "4     20\n",
       "5     24\n",
       "6     28\n",
       "7     32\n",
       "8     36\n",
       "9     40\n",
       "10    44\n",
       "11    48\n",
       "12    52\n",
       "13    56\n",
       "14    60\n",
       "15    64\n",
       "16    68\n",
       "17    72\n",
       "18    76\n",
       "dtype: int32"
      ]
     },
     "execution_count": 19,
     "metadata": {},
     "output_type": "execute_result"
    }
   ],
   "source": [
    "ser3"
   ]
  },
  {
   "cell_type": "code",
   "execution_count": 20,
   "id": "84bbdeea-13cb-46ae-9964-8ba97e2e7110",
   "metadata": {},
   "outputs": [
    {
     "data": {
      "text/plain": [
       "0     False\n",
       "1     False\n",
       "2     False\n",
       "3     False\n",
       "4     False\n",
       "5      True\n",
       "6      True\n",
       "7      True\n",
       "8      True\n",
       "9      True\n",
       "10     True\n",
       "11     True\n",
       "12     True\n",
       "13     True\n",
       "14     True\n",
       "15     True\n",
       "16     True\n",
       "17     True\n",
       "18     True\n",
       "dtype: bool"
      ]
     },
     "execution_count": 20,
     "metadata": {},
     "output_type": "execute_result"
    }
   ],
   "source": [
    "ser3>20"
   ]
  },
  {
   "cell_type": "code",
   "execution_count": 21,
   "id": "dd754abe-7d01-4005-ac09-a76e66c41f4c",
   "metadata": {},
   "outputs": [
    {
     "data": {
      "text/plain": [
       "7     32\n",
       "8     36\n",
       "9     40\n",
       "10    44\n",
       "11    48\n",
       "12    52\n",
       "13    56\n",
       "14    60\n",
       "15    64\n",
       "16    68\n",
       "17    72\n",
       "18    76\n",
       "dtype: int32"
      ]
     },
     "execution_count": 21,
     "metadata": {},
     "output_type": "execute_result"
    }
   ],
   "source": [
    "ser3[ser3>30]"
   ]
  },
  {
   "cell_type": "code",
   "execution_count": 22,
   "id": "b02cde0e-4c0e-494e-a66f-75aa10b2b289",
   "metadata": {},
   "outputs": [
    {
     "data": {
      "text/plain": [
       "0     False\n",
       "1     False\n",
       "2     False\n",
       "3     False\n",
       "4     False\n",
       "5     False\n",
       "6     False\n",
       "7      True\n",
       "8      True\n",
       "9      True\n",
       "10     True\n",
       "11     True\n",
       "12     True\n",
       "13     True\n",
       "14    False\n",
       "15    False\n",
       "16    False\n",
       "17    False\n",
       "18    False\n",
       "dtype: bool"
      ]
     },
     "execution_count": 22,
     "metadata": {},
     "output_type": "execute_result"
    }
   ],
   "source": [
    "(ser3>30) & (ser3<60)"
   ]
  },
  {
   "cell_type": "code",
   "execution_count": 23,
   "id": "e8b90379-5b5a-4d61-8a1b-a184bdd3b2da",
   "metadata": {},
   "outputs": [
    {
     "data": {
      "text/plain": [
       "7     32\n",
       "8     36\n",
       "9     40\n",
       "10    44\n",
       "11    48\n",
       "12    52\n",
       "13    56\n",
       "dtype: int32"
      ]
     },
     "execution_count": 23,
     "metadata": {},
     "output_type": "execute_result"
    }
   ],
   "source": [
    "ser3[(ser3>30) & (ser3<60)]"
   ]
  },
  {
   "cell_type": "code",
   "execution_count": 24,
   "id": "daf95cee-a669-46a6-837a-3bca151b5f6d",
   "metadata": {},
   "outputs": [
    {
     "data": {
      "text/plain": [
       "4"
      ]
     },
     "execution_count": 24,
     "metadata": {},
     "output_type": "execute_result"
    }
   ],
   "source": [
    "ser3.min()"
   ]
  },
  {
   "cell_type": "code",
   "execution_count": 25,
   "id": "c5c6fe90-ac16-4af9-8190-2eb9b481896c",
   "metadata": {},
   "outputs": [
    {
     "data": {
      "text/plain": [
       "76"
      ]
     },
     "execution_count": 25,
     "metadata": {},
     "output_type": "execute_result"
    }
   ],
   "source": [
    "ser3.max()"
   ]
  },
  {
   "cell_type": "code",
   "execution_count": 26,
   "id": "886df34c-3290-4bb3-956d-9a8d74931aff",
   "metadata": {},
   "outputs": [
    {
     "data": {
      "text/plain": [
       "0     14\n",
       "1     18\n",
       "2     22\n",
       "3     26\n",
       "4     30\n",
       "5     34\n",
       "6     38\n",
       "7     42\n",
       "8     46\n",
       "9     50\n",
       "10    54\n",
       "11    58\n",
       "12    62\n",
       "13    66\n",
       "14    70\n",
       "15    74\n",
       "16    78\n",
       "17    82\n",
       "18    86\n",
       "dtype: int32"
      ]
     },
     "execution_count": 26,
     "metadata": {},
     "output_type": "execute_result"
    }
   ],
   "source": [
    "ser3+10"
   ]
  },
  {
   "cell_type": "code",
   "execution_count": 27,
   "id": "470309df-aac8-4081-97b4-5e6e2f7cae8b",
   "metadata": {},
   "outputs": [
    {
     "data": {
      "text/plain": [
       "0       8\n",
       "1      16\n",
       "2      24\n",
       "3      32\n",
       "4      40\n",
       "5      48\n",
       "6      56\n",
       "7      64\n",
       "8      72\n",
       "9      80\n",
       "10     88\n",
       "11     96\n",
       "12    104\n",
       "13    112\n",
       "14    120\n",
       "15    128\n",
       "16    136\n",
       "17    144\n",
       "18    152\n",
       "dtype: int32"
      ]
     },
     "execution_count": 27,
     "metadata": {},
     "output_type": "execute_result"
    }
   ],
   "source": [
    "ser3*2"
   ]
  },
  {
   "cell_type": "code",
   "execution_count": 28,
   "id": "23757c04-0505-437b-ac5e-73e4fee7f810",
   "metadata": {},
   "outputs": [
    {
     "data": {
      "text/plain": [
       "0      2.0\n",
       "1      4.0\n",
       "2      6.0\n",
       "3      8.0\n",
       "4     10.0\n",
       "5     12.0\n",
       "6     14.0\n",
       "7     16.0\n",
       "8     18.0\n",
       "9     20.0\n",
       "10    22.0\n",
       "11    24.0\n",
       "12    26.0\n",
       "13    28.0\n",
       "14    30.0\n",
       "15    32.0\n",
       "16    34.0\n",
       "17    36.0\n",
       "18    38.0\n",
       "dtype: float64"
      ]
     },
     "execution_count": 28,
     "metadata": {},
     "output_type": "execute_result"
    }
   ],
   "source": [
    "ser3/2"
   ]
  },
  {
   "cell_type": "code",
   "execution_count": 29,
   "id": "525dd9ae-2691-46c7-b6b1-4bbdfe53fb2d",
   "metadata": {},
   "outputs": [
    {
     "data": {
      "text/plain": [
       "0    -16\n",
       "1    -12\n",
       "2     -8\n",
       "3     -4\n",
       "4      0\n",
       "5      4\n",
       "6      8\n",
       "7     12\n",
       "8     16\n",
       "9     20\n",
       "10    24\n",
       "11    28\n",
       "12    32\n",
       "13    36\n",
       "14    40\n",
       "15    44\n",
       "16    48\n",
       "17    52\n",
       "18    56\n",
       "dtype: int32"
      ]
     },
     "execution_count": 29,
     "metadata": {},
     "output_type": "execute_result"
    }
   ],
   "source": [
    "ser3-20"
   ]
  },
  {
   "cell_type": "code",
   "execution_count": 30,
   "id": "877fb7d1-7b7c-4077-b449-63cefa37de7b",
   "metadata": {},
   "outputs": [],
   "source": [
    "name={\"nandana\":1,\"sabith\":2,\"haziba\":3,\"anila\":4}"
   ]
  },
  {
   "cell_type": "code",
   "execution_count": 31,
   "id": "0f3e4383-43db-4d51-b109-8cfd760f0076",
   "metadata": {},
   "outputs": [],
   "source": [
    "marks=pd.Series(name)"
   ]
  },
  {
   "cell_type": "code",
   "execution_count": 32,
   "id": "b241f6a4-df0e-4fde-893d-73cccace031d",
   "metadata": {},
   "outputs": [
    {
     "data": {
      "text/plain": [
       "nandana    1\n",
       "sabith     2\n",
       "haziba     3\n",
       "anila      4\n",
       "dtype: int64"
      ]
     },
     "execution_count": 32,
     "metadata": {},
     "output_type": "execute_result"
    }
   ],
   "source": [
    "marks"
   ]
  },
  {
   "cell_type": "code",
   "execution_count": 33,
   "id": "49966113-fafc-46a8-b5dd-27b99f5395a6",
   "metadata": {},
   "outputs": [],
   "source": [
    "list1=[\"nandana\",\"sabith\",\"haziba\",\"anila\",\"anandu\",\"gazal\"]"
   ]
  },
  {
   "cell_type": "code",
   "execution_count": 34,
   "id": "de48e230-0694-4ca4-a581-79147ea08478",
   "metadata": {},
   "outputs": [],
   "source": [
    "marks1=pd.Series(name,index=list1)"
   ]
  },
  {
   "cell_type": "code",
   "execution_count": 35,
   "id": "8957332a-a8e0-4bf8-929f-eb1fbf7e8d69",
   "metadata": {},
   "outputs": [
    {
     "data": {
      "text/plain": [
       "nandana    1.0\n",
       "sabith     2.0\n",
       "haziba     3.0\n",
       "anila      4.0\n",
       "anandu     NaN\n",
       "gazal      NaN\n",
       "dtype: float64"
      ]
     },
     "execution_count": 35,
     "metadata": {},
     "output_type": "execute_result"
    }
   ],
   "source": [
    "marks1"
   ]
  },
  {
   "cell_type": "code",
   "execution_count": 36,
   "id": "37f86b61-aae4-41b6-b285-520a50ea07f4",
   "metadata": {},
   "outputs": [
    {
     "data": {
      "text/plain": [
       "nandana    False\n",
       "sabith     False\n",
       "haziba     False\n",
       "anila      False\n",
       "anandu      True\n",
       "gazal       True\n",
       "dtype: bool"
      ]
     },
     "execution_count": 36,
     "metadata": {},
     "output_type": "execute_result"
    }
   ],
   "source": [
    "marks1.isna()"
   ]
  },
  {
   "cell_type": "code",
   "execution_count": 37,
   "id": "aa05c3b3-8e08-432e-9e20-eeb873749578",
   "metadata": {},
   "outputs": [
    {
     "data": {
      "text/plain": [
       "anandu   NaN\n",
       "gazal    NaN\n",
       "dtype: float64"
      ]
     },
     "execution_count": 37,
     "metadata": {},
     "output_type": "execute_result"
    }
   ],
   "source": [
    "marks1[marks1.isna()]"
   ]
  },
  {
   "cell_type": "code",
   "execution_count": 38,
   "id": "4a6ff307-dd91-447a-bc5f-9c92a3ccc947",
   "metadata": {},
   "outputs": [
    {
     "data": {
      "text/plain": [
       "nandana    False\n",
       "sabith     False\n",
       "haziba     False\n",
       "anila      False\n",
       "anandu      True\n",
       "gazal       True\n",
       "dtype: bool"
      ]
     },
     "execution_count": 38,
     "metadata": {},
     "output_type": "execute_result"
    }
   ],
   "source": [
    "marks1.isnull()"
   ]
  },
  {
   "cell_type": "code",
   "execution_count": 39,
   "id": "f9ec0fe0-e5b5-421c-b2f2-5bf1b757cca3",
   "metadata": {},
   "outputs": [
    {
     "data": {
      "text/plain": [
       "anandu   NaN\n",
       "gazal    NaN\n",
       "dtype: float64"
      ]
     },
     "execution_count": 39,
     "metadata": {},
     "output_type": "execute_result"
    }
   ],
   "source": [
    "marks1[marks1.isnull()]"
   ]
  },
  {
   "cell_type": "code",
   "execution_count": 40,
   "id": "d953c766-82fb-4558-b640-cce0ee61212c",
   "metadata": {},
   "outputs": [
    {
     "data": {
      "text/plain": [
       "nandana     True\n",
       "sabith      True\n",
       "haziba      True\n",
       "anila       True\n",
       "anandu     False\n",
       "gazal      False\n",
       "dtype: bool"
      ]
     },
     "execution_count": 40,
     "metadata": {},
     "output_type": "execute_result"
    }
   ],
   "source": [
    "marks1.notna()"
   ]
  },
  {
   "cell_type": "code",
   "execution_count": 41,
   "id": "bdfee78b-8b60-4d04-b125-ac778e01127c",
   "metadata": {},
   "outputs": [
    {
     "data": {
      "text/plain": [
       "nandana    1.0\n",
       "sabith     2.0\n",
       "haziba     3.0\n",
       "anila      4.0\n",
       "dtype: float64"
      ]
     },
     "execution_count": 41,
     "metadata": {},
     "output_type": "execute_result"
    }
   ],
   "source": [
    "marks1[marks1.notna()]"
   ]
  },
  {
   "cell_type": "code",
   "execution_count": 42,
   "id": "d8e3bf40-415a-445d-b8d0-03d861a19572",
   "metadata": {},
   "outputs": [],
   "source": [
    "dict1={\"name\":[\"nandu\",\"anil\",\"sabeeda\",\"hazib\",],\"age\":[22,24,19,20],\"mark1\":[90,95,97,98],\"mark2\":[110,115,112,118]}"
   ]
  },
  {
   "cell_type": "code",
   "execution_count": 43,
   "id": "b38db6c0-1755-425a-b6b0-35a3aee0895c",
   "metadata": {},
   "outputs": [],
   "source": [
    "marks=pd.DataFrame(dict1)"
   ]
  },
  {
   "cell_type": "code",
   "execution_count": 44,
   "id": "ad0fa9b6-9136-4d03-828e-4f617f6c481b",
   "metadata": {},
   "outputs": [
    {
     "data": {
      "text/html": [
       "<div>\n",
       "<style scoped>\n",
       "    .dataframe tbody tr th:only-of-type {\n",
       "        vertical-align: middle;\n",
       "    }\n",
       "\n",
       "    .dataframe tbody tr th {\n",
       "        vertical-align: top;\n",
       "    }\n",
       "\n",
       "    .dataframe thead th {\n",
       "        text-align: right;\n",
       "    }\n",
       "</style>\n",
       "<table border=\"1\" class=\"dataframe\">\n",
       "  <thead>\n",
       "    <tr style=\"text-align: right;\">\n",
       "      <th></th>\n",
       "      <th>name</th>\n",
       "      <th>age</th>\n",
       "      <th>mark1</th>\n",
       "      <th>mark2</th>\n",
       "    </tr>\n",
       "  </thead>\n",
       "  <tbody>\n",
       "    <tr>\n",
       "      <th>0</th>\n",
       "      <td>nandu</td>\n",
       "      <td>22</td>\n",
       "      <td>90</td>\n",
       "      <td>110</td>\n",
       "    </tr>\n",
       "    <tr>\n",
       "      <th>1</th>\n",
       "      <td>anil</td>\n",
       "      <td>24</td>\n",
       "      <td>95</td>\n",
       "      <td>115</td>\n",
       "    </tr>\n",
       "    <tr>\n",
       "      <th>2</th>\n",
       "      <td>sabeeda</td>\n",
       "      <td>19</td>\n",
       "      <td>97</td>\n",
       "      <td>112</td>\n",
       "    </tr>\n",
       "    <tr>\n",
       "      <th>3</th>\n",
       "      <td>hazib</td>\n",
       "      <td>20</td>\n",
       "      <td>98</td>\n",
       "      <td>118</td>\n",
       "    </tr>\n",
       "  </tbody>\n",
       "</table>\n",
       "</div>"
      ],
      "text/plain": [
       "      name  age  mark1  mark2\n",
       "0    nandu   22     90    110\n",
       "1     anil   24     95    115\n",
       "2  sabeeda   19     97    112\n",
       "3    hazib   20     98    118"
      ]
     },
     "execution_count": 44,
     "metadata": {},
     "output_type": "execute_result"
    }
   ],
   "source": [
    "marks"
   ]
  },
  {
   "cell_type": "code",
   "execution_count": 45,
   "id": "9e6b9d55-7bb7-46cd-bcda-b21e8445ee1f",
   "metadata": {},
   "outputs": [
    {
     "data": {
      "text/plain": [
       "0      nandu\n",
       "1       anil\n",
       "2    sabeeda\n",
       "3      hazib\n",
       "Name: name, dtype: object"
      ]
     },
     "execution_count": 45,
     "metadata": {},
     "output_type": "execute_result"
    }
   ],
   "source": [
    "marks[\"name\"]"
   ]
  },
  {
   "cell_type": "code",
   "execution_count": 46,
   "id": "294c5833-095e-46b6-acdf-1f4a2aac948f",
   "metadata": {},
   "outputs": [
    {
     "data": {
      "text/html": [
       "<div>\n",
       "<style scoped>\n",
       "    .dataframe tbody tr th:only-of-type {\n",
       "        vertical-align: middle;\n",
       "    }\n",
       "\n",
       "    .dataframe tbody tr th {\n",
       "        vertical-align: top;\n",
       "    }\n",
       "\n",
       "    .dataframe thead th {\n",
       "        text-align: right;\n",
       "    }\n",
       "</style>\n",
       "<table border=\"1\" class=\"dataframe\">\n",
       "  <thead>\n",
       "    <tr style=\"text-align: right;\">\n",
       "      <th></th>\n",
       "      <th>name</th>\n",
       "      <th>age</th>\n",
       "      <th>mark1</th>\n",
       "      <th>mark2</th>\n",
       "    </tr>\n",
       "  </thead>\n",
       "  <tbody>\n",
       "    <tr>\n",
       "      <th>0</th>\n",
       "      <td>nandu</td>\n",
       "      <td>22</td>\n",
       "      <td>90</td>\n",
       "      <td>110</td>\n",
       "    </tr>\n",
       "    <tr>\n",
       "      <th>1</th>\n",
       "      <td>anil</td>\n",
       "      <td>24</td>\n",
       "      <td>95</td>\n",
       "      <td>115</td>\n",
       "    </tr>\n",
       "  </tbody>\n",
       "</table>\n",
       "</div>"
      ],
      "text/plain": [
       "    name  age  mark1  mark2\n",
       "0  nandu   22     90    110\n",
       "1   anil   24     95    115"
      ]
     },
     "execution_count": 46,
     "metadata": {},
     "output_type": "execute_result"
    }
   ],
   "source": [
    "marks.head(2)"
   ]
  },
  {
   "cell_type": "code",
   "execution_count": 47,
   "id": "3bce3e52-08f7-401f-a5b0-6e8262458414",
   "metadata": {},
   "outputs": [
    {
     "data": {
      "text/html": [
       "<div>\n",
       "<style scoped>\n",
       "    .dataframe tbody tr th:only-of-type {\n",
       "        vertical-align: middle;\n",
       "    }\n",
       "\n",
       "    .dataframe tbody tr th {\n",
       "        vertical-align: top;\n",
       "    }\n",
       "\n",
       "    .dataframe thead th {\n",
       "        text-align: right;\n",
       "    }\n",
       "</style>\n",
       "<table border=\"1\" class=\"dataframe\">\n",
       "  <thead>\n",
       "    <tr style=\"text-align: right;\">\n",
       "      <th></th>\n",
       "      <th>name</th>\n",
       "      <th>age</th>\n",
       "      <th>mark1</th>\n",
       "      <th>mark2</th>\n",
       "    </tr>\n",
       "  </thead>\n",
       "  <tbody>\n",
       "    <tr>\n",
       "      <th>2</th>\n",
       "      <td>sabeeda</td>\n",
       "      <td>19</td>\n",
       "      <td>97</td>\n",
       "      <td>112</td>\n",
       "    </tr>\n",
       "    <tr>\n",
       "      <th>3</th>\n",
       "      <td>hazib</td>\n",
       "      <td>20</td>\n",
       "      <td>98</td>\n",
       "      <td>118</td>\n",
       "    </tr>\n",
       "  </tbody>\n",
       "</table>\n",
       "</div>"
      ],
      "text/plain": [
       "      name  age  mark1  mark2\n",
       "2  sabeeda   19     97    112\n",
       "3    hazib   20     98    118"
      ]
     },
     "execution_count": 47,
     "metadata": {},
     "output_type": "execute_result"
    }
   ],
   "source": [
    "marks.tail(2)"
   ]
  },
  {
   "cell_type": "code",
   "execution_count": 48,
   "id": "a86a4a6e-2629-4540-a079-f9e5b9caa4e9",
   "metadata": {},
   "outputs": [
    {
     "data": {
      "text/plain": [
       "0     True\n",
       "1     True\n",
       "2    False\n",
       "3    False\n",
       "Name: age, dtype: bool"
      ]
     },
     "execution_count": 48,
     "metadata": {},
     "output_type": "execute_result"
    }
   ],
   "source": [
    "marks[\"age\"]>20"
   ]
  },
  {
   "cell_type": "code",
   "execution_count": 49,
   "id": "37a20f39-6ab9-47e5-8b20-1718db3197d7",
   "metadata": {},
   "outputs": [
    {
     "data": {
      "text/html": [
       "<div>\n",
       "<style scoped>\n",
       "    .dataframe tbody tr th:only-of-type {\n",
       "        vertical-align: middle;\n",
       "    }\n",
       "\n",
       "    .dataframe tbody tr th {\n",
       "        vertical-align: top;\n",
       "    }\n",
       "\n",
       "    .dataframe thead th {\n",
       "        text-align: right;\n",
       "    }\n",
       "</style>\n",
       "<table border=\"1\" class=\"dataframe\">\n",
       "  <thead>\n",
       "    <tr style=\"text-align: right;\">\n",
       "      <th></th>\n",
       "      <th>name</th>\n",
       "      <th>age</th>\n",
       "      <th>mark1</th>\n",
       "      <th>mark2</th>\n",
       "    </tr>\n",
       "  </thead>\n",
       "  <tbody>\n",
       "    <tr>\n",
       "      <th>0</th>\n",
       "      <td>nandu</td>\n",
       "      <td>22</td>\n",
       "      <td>90</td>\n",
       "      <td>110</td>\n",
       "    </tr>\n",
       "    <tr>\n",
       "      <th>1</th>\n",
       "      <td>anil</td>\n",
       "      <td>24</td>\n",
       "      <td>95</td>\n",
       "      <td>115</td>\n",
       "    </tr>\n",
       "  </tbody>\n",
       "</table>\n",
       "</div>"
      ],
      "text/plain": [
       "    name  age  mark1  mark2\n",
       "0  nandu   22     90    110\n",
       "1   anil   24     95    115"
      ]
     },
     "execution_count": 49,
     "metadata": {},
     "output_type": "execute_result"
    }
   ],
   "source": [
    "marks[marks[\"age\"]>20]"
   ]
  },
  {
   "cell_type": "code",
   "execution_count": 50,
   "id": "2bf37174-ec71-4acf-a9da-a999054b8165",
   "metadata": {},
   "outputs": [
    {
     "data": {
      "text/html": [
       "<div>\n",
       "<style scoped>\n",
       "    .dataframe tbody tr th:only-of-type {\n",
       "        vertical-align: middle;\n",
       "    }\n",
       "\n",
       "    .dataframe tbody tr th {\n",
       "        vertical-align: top;\n",
       "    }\n",
       "\n",
       "    .dataframe thead th {\n",
       "        text-align: right;\n",
       "    }\n",
       "</style>\n",
       "<table border=\"1\" class=\"dataframe\">\n",
       "  <thead>\n",
       "    <tr style=\"text-align: right;\">\n",
       "      <th></th>\n",
       "      <th>name</th>\n",
       "      <th>age</th>\n",
       "      <th>mark1</th>\n",
       "      <th>mark2</th>\n",
       "    </tr>\n",
       "  </thead>\n",
       "  <tbody>\n",
       "    <tr>\n",
       "      <th>1</th>\n",
       "      <td>anil</td>\n",
       "      <td>24</td>\n",
       "      <td>95</td>\n",
       "      <td>115</td>\n",
       "    </tr>\n",
       "  </tbody>\n",
       "</table>\n",
       "</div>"
      ],
      "text/plain": [
       "   name  age  mark1  mark2\n",
       "1  anil   24     95    115"
      ]
     },
     "execution_count": 50,
     "metadata": {},
     "output_type": "execute_result"
    }
   ],
   "source": [
    "marks[marks[\"name\"]==\"anil\"]"
   ]
  },
  {
   "cell_type": "code",
   "execution_count": 51,
   "id": "a6f1e8f7-d36f-4e2c-a143-9d8bd56947ef",
   "metadata": {},
   "outputs": [],
   "source": [
    "marksheet=pd.DataFrame(marks,columns=[\"name\",\"age\",\"mark1\",\"mark2\",\"place\"])"
   ]
  },
  {
   "cell_type": "code",
   "execution_count": 52,
   "id": "dcbffb39-20cd-4bd4-9fd7-a7dca0a5bd1e",
   "metadata": {},
   "outputs": [
    {
     "data": {
      "text/html": [
       "<div>\n",
       "<style scoped>\n",
       "    .dataframe tbody tr th:only-of-type {\n",
       "        vertical-align: middle;\n",
       "    }\n",
       "\n",
       "    .dataframe tbody tr th {\n",
       "        vertical-align: top;\n",
       "    }\n",
       "\n",
       "    .dataframe thead th {\n",
       "        text-align: right;\n",
       "    }\n",
       "</style>\n",
       "<table border=\"1\" class=\"dataframe\">\n",
       "  <thead>\n",
       "    <tr style=\"text-align: right;\">\n",
       "      <th></th>\n",
       "      <th>name</th>\n",
       "      <th>age</th>\n",
       "      <th>mark1</th>\n",
       "      <th>mark2</th>\n",
       "      <th>place</th>\n",
       "    </tr>\n",
       "  </thead>\n",
       "  <tbody>\n",
       "    <tr>\n",
       "      <th>0</th>\n",
       "      <td>nandu</td>\n",
       "      <td>22</td>\n",
       "      <td>90</td>\n",
       "      <td>110</td>\n",
       "      <td>NaN</td>\n",
       "    </tr>\n",
       "    <tr>\n",
       "      <th>1</th>\n",
       "      <td>anil</td>\n",
       "      <td>24</td>\n",
       "      <td>95</td>\n",
       "      <td>115</td>\n",
       "      <td>NaN</td>\n",
       "    </tr>\n",
       "    <tr>\n",
       "      <th>2</th>\n",
       "      <td>sabeeda</td>\n",
       "      <td>19</td>\n",
       "      <td>97</td>\n",
       "      <td>112</td>\n",
       "      <td>NaN</td>\n",
       "    </tr>\n",
       "    <tr>\n",
       "      <th>3</th>\n",
       "      <td>hazib</td>\n",
       "      <td>20</td>\n",
       "      <td>98</td>\n",
       "      <td>118</td>\n",
       "      <td>NaN</td>\n",
       "    </tr>\n",
       "  </tbody>\n",
       "</table>\n",
       "</div>"
      ],
      "text/plain": [
       "      name  age  mark1  mark2  place\n",
       "0    nandu   22     90    110    NaN\n",
       "1     anil   24     95    115    NaN\n",
       "2  sabeeda   19     97    112    NaN\n",
       "3    hazib   20     98    118    NaN"
      ]
     },
     "execution_count": 52,
     "metadata": {},
     "output_type": "execute_result"
    }
   ],
   "source": [
    "marksheet"
   ]
  },
  {
   "cell_type": "code",
   "execution_count": 53,
   "id": "3658ba23-a331-4cd7-ab6b-824313c8c0e5",
   "metadata": {},
   "outputs": [],
   "source": [
    "marksheet[\"place\"]=[\"palakkad\",\"malappuaram\",\"trissur\",\"ernakulam\"]"
   ]
  },
  {
   "cell_type": "code",
   "execution_count": 54,
   "id": "e65af062-3b98-4503-b565-8744405469b1",
   "metadata": {},
   "outputs": [
    {
     "data": {
      "text/html": [
       "<div>\n",
       "<style scoped>\n",
       "    .dataframe tbody tr th:only-of-type {\n",
       "        vertical-align: middle;\n",
       "    }\n",
       "\n",
       "    .dataframe tbody tr th {\n",
       "        vertical-align: top;\n",
       "    }\n",
       "\n",
       "    .dataframe thead th {\n",
       "        text-align: right;\n",
       "    }\n",
       "</style>\n",
       "<table border=\"1\" class=\"dataframe\">\n",
       "  <thead>\n",
       "    <tr style=\"text-align: right;\">\n",
       "      <th></th>\n",
       "      <th>name</th>\n",
       "      <th>age</th>\n",
       "      <th>mark1</th>\n",
       "      <th>mark2</th>\n",
       "      <th>place</th>\n",
       "    </tr>\n",
       "  </thead>\n",
       "  <tbody>\n",
       "    <tr>\n",
       "      <th>0</th>\n",
       "      <td>nandu</td>\n",
       "      <td>22</td>\n",
       "      <td>90</td>\n",
       "      <td>110</td>\n",
       "      <td>palakkad</td>\n",
       "    </tr>\n",
       "    <tr>\n",
       "      <th>1</th>\n",
       "      <td>anil</td>\n",
       "      <td>24</td>\n",
       "      <td>95</td>\n",
       "      <td>115</td>\n",
       "      <td>malappuaram</td>\n",
       "    </tr>\n",
       "    <tr>\n",
       "      <th>2</th>\n",
       "      <td>sabeeda</td>\n",
       "      <td>19</td>\n",
       "      <td>97</td>\n",
       "      <td>112</td>\n",
       "      <td>trissur</td>\n",
       "    </tr>\n",
       "    <tr>\n",
       "      <th>3</th>\n",
       "      <td>hazib</td>\n",
       "      <td>20</td>\n",
       "      <td>98</td>\n",
       "      <td>118</td>\n",
       "      <td>ernakulam</td>\n",
       "    </tr>\n",
       "  </tbody>\n",
       "</table>\n",
       "</div>"
      ],
      "text/plain": [
       "      name  age  mark1  mark2        place\n",
       "0    nandu   22     90    110     palakkad\n",
       "1     anil   24     95    115  malappuaram\n",
       "2  sabeeda   19     97    112      trissur\n",
       "3    hazib   20     98    118    ernakulam"
      ]
     },
     "execution_count": 54,
     "metadata": {},
     "output_type": "execute_result"
    }
   ],
   "source": [
    "marksheet"
   ]
  },
  {
   "cell_type": "code",
   "execution_count": 55,
   "id": "56357062-247c-4271-8527-3fb6ee562d1a",
   "metadata": {},
   "outputs": [],
   "source": [
    "marksheet[\"cgpa\"]=[8,7,9,6]"
   ]
  },
  {
   "cell_type": "code",
   "execution_count": 56,
   "id": "8bce4e01-45bc-44b3-8ffe-18caae6dcf11",
   "metadata": {},
   "outputs": [
    {
     "data": {
      "text/html": [
       "<div>\n",
       "<style scoped>\n",
       "    .dataframe tbody tr th:only-of-type {\n",
       "        vertical-align: middle;\n",
       "    }\n",
       "\n",
       "    .dataframe tbody tr th {\n",
       "        vertical-align: top;\n",
       "    }\n",
       "\n",
       "    .dataframe thead th {\n",
       "        text-align: right;\n",
       "    }\n",
       "</style>\n",
       "<table border=\"1\" class=\"dataframe\">\n",
       "  <thead>\n",
       "    <tr style=\"text-align: right;\">\n",
       "      <th></th>\n",
       "      <th>name</th>\n",
       "      <th>age</th>\n",
       "      <th>mark1</th>\n",
       "      <th>mark2</th>\n",
       "      <th>place</th>\n",
       "      <th>cgpa</th>\n",
       "    </tr>\n",
       "  </thead>\n",
       "  <tbody>\n",
       "    <tr>\n",
       "      <th>0</th>\n",
       "      <td>nandu</td>\n",
       "      <td>22</td>\n",
       "      <td>90</td>\n",
       "      <td>110</td>\n",
       "      <td>palakkad</td>\n",
       "      <td>8</td>\n",
       "    </tr>\n",
       "    <tr>\n",
       "      <th>1</th>\n",
       "      <td>anil</td>\n",
       "      <td>24</td>\n",
       "      <td>95</td>\n",
       "      <td>115</td>\n",
       "      <td>malappuaram</td>\n",
       "      <td>7</td>\n",
       "    </tr>\n",
       "    <tr>\n",
       "      <th>2</th>\n",
       "      <td>sabeeda</td>\n",
       "      <td>19</td>\n",
       "      <td>97</td>\n",
       "      <td>112</td>\n",
       "      <td>trissur</td>\n",
       "      <td>9</td>\n",
       "    </tr>\n",
       "    <tr>\n",
       "      <th>3</th>\n",
       "      <td>hazib</td>\n",
       "      <td>20</td>\n",
       "      <td>98</td>\n",
       "      <td>118</td>\n",
       "      <td>ernakulam</td>\n",
       "      <td>6</td>\n",
       "    </tr>\n",
       "  </tbody>\n",
       "</table>\n",
       "</div>"
      ],
      "text/plain": [
       "      name  age  mark1  mark2        place  cgpa\n",
       "0    nandu   22     90    110     palakkad     8\n",
       "1     anil   24     95    115  malappuaram     7\n",
       "2  sabeeda   19     97    112      trissur     9\n",
       "3    hazib   20     98    118    ernakulam     6"
      ]
     },
     "execution_count": 56,
     "metadata": {},
     "output_type": "execute_result"
    }
   ],
   "source": [
    "marksheet"
   ]
  },
  {
   "cell_type": "code",
   "execution_count": 57,
   "id": "c343a551-61f8-4347-ac98-46a880748ad5",
   "metadata": {},
   "outputs": [],
   "source": [
    "marksheet[\"percentage\"]=marksheet[\"cgpa\"]*10"
   ]
  },
  {
   "cell_type": "code",
   "execution_count": 58,
   "id": "50398677-ca32-470f-86d8-0eedcb465ee1",
   "metadata": {},
   "outputs": [
    {
     "data": {
      "text/html": [
       "<div>\n",
       "<style scoped>\n",
       "    .dataframe tbody tr th:only-of-type {\n",
       "        vertical-align: middle;\n",
       "    }\n",
       "\n",
       "    .dataframe tbody tr th {\n",
       "        vertical-align: top;\n",
       "    }\n",
       "\n",
       "    .dataframe thead th {\n",
       "        text-align: right;\n",
       "    }\n",
       "</style>\n",
       "<table border=\"1\" class=\"dataframe\">\n",
       "  <thead>\n",
       "    <tr style=\"text-align: right;\">\n",
       "      <th></th>\n",
       "      <th>name</th>\n",
       "      <th>age</th>\n",
       "      <th>mark1</th>\n",
       "      <th>mark2</th>\n",
       "      <th>place</th>\n",
       "      <th>cgpa</th>\n",
       "      <th>percentage</th>\n",
       "    </tr>\n",
       "  </thead>\n",
       "  <tbody>\n",
       "    <tr>\n",
       "      <th>0</th>\n",
       "      <td>nandu</td>\n",
       "      <td>22</td>\n",
       "      <td>90</td>\n",
       "      <td>110</td>\n",
       "      <td>palakkad</td>\n",
       "      <td>8</td>\n",
       "      <td>80</td>\n",
       "    </tr>\n",
       "    <tr>\n",
       "      <th>1</th>\n",
       "      <td>anil</td>\n",
       "      <td>24</td>\n",
       "      <td>95</td>\n",
       "      <td>115</td>\n",
       "      <td>malappuaram</td>\n",
       "      <td>7</td>\n",
       "      <td>70</td>\n",
       "    </tr>\n",
       "    <tr>\n",
       "      <th>2</th>\n",
       "      <td>sabeeda</td>\n",
       "      <td>19</td>\n",
       "      <td>97</td>\n",
       "      <td>112</td>\n",
       "      <td>trissur</td>\n",
       "      <td>9</td>\n",
       "      <td>90</td>\n",
       "    </tr>\n",
       "    <tr>\n",
       "      <th>3</th>\n",
       "      <td>hazib</td>\n",
       "      <td>20</td>\n",
       "      <td>98</td>\n",
       "      <td>118</td>\n",
       "      <td>ernakulam</td>\n",
       "      <td>6</td>\n",
       "      <td>60</td>\n",
       "    </tr>\n",
       "  </tbody>\n",
       "</table>\n",
       "</div>"
      ],
      "text/plain": [
       "      name  age  mark1  mark2        place  cgpa  percentage\n",
       "0    nandu   22     90    110     palakkad     8          80\n",
       "1     anil   24     95    115  malappuaram     7          70\n",
       "2  sabeeda   19     97    112      trissur     9          90\n",
       "3    hazib   20     98    118    ernakulam     6          60"
      ]
     },
     "execution_count": 58,
     "metadata": {},
     "output_type": "execute_result"
    }
   ],
   "source": [
    "marksheet"
   ]
  },
  {
   "cell_type": "code",
   "execution_count": 59,
   "id": "b1b4e907-8699-4c4a-994f-4b236a898188",
   "metadata": {},
   "outputs": [],
   "source": [
    "marksheet[\"totalmarks\"]=marksheet[\"mark1\"]+marksheet[\"mark2\"]"
   ]
  },
  {
   "cell_type": "code",
   "execution_count": 60,
   "id": "3da4b070-5ea8-4f44-8cd8-9aa4b054110a",
   "metadata": {},
   "outputs": [
    {
     "data": {
      "text/html": [
       "<div>\n",
       "<style scoped>\n",
       "    .dataframe tbody tr th:only-of-type {\n",
       "        vertical-align: middle;\n",
       "    }\n",
       "\n",
       "    .dataframe tbody tr th {\n",
       "        vertical-align: top;\n",
       "    }\n",
       "\n",
       "    .dataframe thead th {\n",
       "        text-align: right;\n",
       "    }\n",
       "</style>\n",
       "<table border=\"1\" class=\"dataframe\">\n",
       "  <thead>\n",
       "    <tr style=\"text-align: right;\">\n",
       "      <th></th>\n",
       "      <th>name</th>\n",
       "      <th>age</th>\n",
       "      <th>mark1</th>\n",
       "      <th>mark2</th>\n",
       "      <th>place</th>\n",
       "      <th>cgpa</th>\n",
       "      <th>percentage</th>\n",
       "      <th>totalmarks</th>\n",
       "    </tr>\n",
       "  </thead>\n",
       "  <tbody>\n",
       "    <tr>\n",
       "      <th>0</th>\n",
       "      <td>nandu</td>\n",
       "      <td>22</td>\n",
       "      <td>90</td>\n",
       "      <td>110</td>\n",
       "      <td>palakkad</td>\n",
       "      <td>8</td>\n",
       "      <td>80</td>\n",
       "      <td>200</td>\n",
       "    </tr>\n",
       "    <tr>\n",
       "      <th>1</th>\n",
       "      <td>anil</td>\n",
       "      <td>24</td>\n",
       "      <td>95</td>\n",
       "      <td>115</td>\n",
       "      <td>malappuaram</td>\n",
       "      <td>7</td>\n",
       "      <td>70</td>\n",
       "      <td>210</td>\n",
       "    </tr>\n",
       "    <tr>\n",
       "      <th>2</th>\n",
       "      <td>sabeeda</td>\n",
       "      <td>19</td>\n",
       "      <td>97</td>\n",
       "      <td>112</td>\n",
       "      <td>trissur</td>\n",
       "      <td>9</td>\n",
       "      <td>90</td>\n",
       "      <td>209</td>\n",
       "    </tr>\n",
       "    <tr>\n",
       "      <th>3</th>\n",
       "      <td>hazib</td>\n",
       "      <td>20</td>\n",
       "      <td>98</td>\n",
       "      <td>118</td>\n",
       "      <td>ernakulam</td>\n",
       "      <td>6</td>\n",
       "      <td>60</td>\n",
       "      <td>216</td>\n",
       "    </tr>\n",
       "  </tbody>\n",
       "</table>\n",
       "</div>"
      ],
      "text/plain": [
       "      name  age  mark1  mark2        place  cgpa  percentage  totalmarks\n",
       "0    nandu   22     90    110     palakkad     8          80         200\n",
       "1     anil   24     95    115  malappuaram     7          70         210\n",
       "2  sabeeda   19     97    112      trissur     9          90         209\n",
       "3    hazib   20     98    118    ernakulam     6          60         216"
      ]
     },
     "execution_count": 60,
     "metadata": {},
     "output_type": "execute_result"
    }
   ],
   "source": [
    "marksheet"
   ]
  },
  {
   "cell_type": "code",
   "execution_count": 61,
   "id": "deeac349-6b82-4e07-b779-c77054ae2bd7",
   "metadata": {},
   "outputs": [],
   "source": [
    "marksheet={\"name\":[\"david\",\"richard\",\"john\",\"tony\",\"scott\"],\"maths\":[85,91,81,84,71],\"science\":[87,81,86,86,79],\"english\":[88,78,88,87,82],\"physics\":[92,71,84,82,88],\"general knowledge\":[88,74,92,81,89]}"
   ]
  },
  {
   "cell_type": "code",
   "execution_count": 62,
   "id": "280a5b5c-aa78-4d46-961b-24094c56a22a",
   "metadata": {},
   "outputs": [],
   "source": [
    "marks=pd.DataFrame(marksheet)\n"
   ]
  },
  {
   "cell_type": "code",
   "execution_count": 63,
   "id": "ea4bb906-b44b-47d3-b1f7-1d8909a963b2",
   "metadata": {},
   "outputs": [
    {
     "data": {
      "text/html": [
       "<div>\n",
       "<style scoped>\n",
       "    .dataframe tbody tr th:only-of-type {\n",
       "        vertical-align: middle;\n",
       "    }\n",
       "\n",
       "    .dataframe tbody tr th {\n",
       "        vertical-align: top;\n",
       "    }\n",
       "\n",
       "    .dataframe thead th {\n",
       "        text-align: right;\n",
       "    }\n",
       "</style>\n",
       "<table border=\"1\" class=\"dataframe\">\n",
       "  <thead>\n",
       "    <tr style=\"text-align: right;\">\n",
       "      <th></th>\n",
       "      <th>name</th>\n",
       "      <th>maths</th>\n",
       "      <th>science</th>\n",
       "      <th>english</th>\n",
       "      <th>physics</th>\n",
       "      <th>general knowledge</th>\n",
       "    </tr>\n",
       "  </thead>\n",
       "  <tbody>\n",
       "    <tr>\n",
       "      <th>0</th>\n",
       "      <td>david</td>\n",
       "      <td>85</td>\n",
       "      <td>87</td>\n",
       "      <td>88</td>\n",
       "      <td>92</td>\n",
       "      <td>88</td>\n",
       "    </tr>\n",
       "    <tr>\n",
       "      <th>1</th>\n",
       "      <td>richard</td>\n",
       "      <td>91</td>\n",
       "      <td>81</td>\n",
       "      <td>78</td>\n",
       "      <td>71</td>\n",
       "      <td>74</td>\n",
       "    </tr>\n",
       "    <tr>\n",
       "      <th>2</th>\n",
       "      <td>john</td>\n",
       "      <td>81</td>\n",
       "      <td>86</td>\n",
       "      <td>88</td>\n",
       "      <td>84</td>\n",
       "      <td>92</td>\n",
       "    </tr>\n",
       "    <tr>\n",
       "      <th>3</th>\n",
       "      <td>tony</td>\n",
       "      <td>84</td>\n",
       "      <td>86</td>\n",
       "      <td>87</td>\n",
       "      <td>82</td>\n",
       "      <td>81</td>\n",
       "    </tr>\n",
       "    <tr>\n",
       "      <th>4</th>\n",
       "      <td>scott</td>\n",
       "      <td>71</td>\n",
       "      <td>79</td>\n",
       "      <td>82</td>\n",
       "      <td>88</td>\n",
       "      <td>89</td>\n",
       "    </tr>\n",
       "  </tbody>\n",
       "</table>\n",
       "</div>"
      ],
      "text/plain": [
       "      name  maths  science  english  physics  general knowledge\n",
       "0    david     85       87       88       92                 88\n",
       "1  richard     91       81       78       71                 74\n",
       "2     john     81       86       88       84                 92\n",
       "3     tony     84       86       87       82                 81\n",
       "4    scott     71       79       82       88                 89"
      ]
     },
     "execution_count": 63,
     "metadata": {},
     "output_type": "execute_result"
    }
   ],
   "source": [
    "marks"
   ]
  },
  {
   "cell_type": "code",
   "execution_count": 64,
   "id": "3e910f5c-01fb-4837-97e7-eb6e57e46bf3",
   "metadata": {},
   "outputs": [],
   "source": [
    "marks[\"totalmarks\"]=marks[\"maths\"]+marks[\"science\"]+marks[\"english\"]+marks[\"physics\"]+marks[\"general knowledge\"]"
   ]
  },
  {
   "cell_type": "code",
   "execution_count": 65,
   "id": "b7816df0-230a-4dea-b84b-319ba5406a16",
   "metadata": {},
   "outputs": [
    {
     "data": {
      "text/html": [
       "<div>\n",
       "<style scoped>\n",
       "    .dataframe tbody tr th:only-of-type {\n",
       "        vertical-align: middle;\n",
       "    }\n",
       "\n",
       "    .dataframe tbody tr th {\n",
       "        vertical-align: top;\n",
       "    }\n",
       "\n",
       "    .dataframe thead th {\n",
       "        text-align: right;\n",
       "    }\n",
       "</style>\n",
       "<table border=\"1\" class=\"dataframe\">\n",
       "  <thead>\n",
       "    <tr style=\"text-align: right;\">\n",
       "      <th></th>\n",
       "      <th>name</th>\n",
       "      <th>maths</th>\n",
       "      <th>science</th>\n",
       "      <th>english</th>\n",
       "      <th>physics</th>\n",
       "      <th>general knowledge</th>\n",
       "      <th>totalmarks</th>\n",
       "    </tr>\n",
       "  </thead>\n",
       "  <tbody>\n",
       "    <tr>\n",
       "      <th>0</th>\n",
       "      <td>david</td>\n",
       "      <td>85</td>\n",
       "      <td>87</td>\n",
       "      <td>88</td>\n",
       "      <td>92</td>\n",
       "      <td>88</td>\n",
       "      <td>440</td>\n",
       "    </tr>\n",
       "    <tr>\n",
       "      <th>1</th>\n",
       "      <td>richard</td>\n",
       "      <td>91</td>\n",
       "      <td>81</td>\n",
       "      <td>78</td>\n",
       "      <td>71</td>\n",
       "      <td>74</td>\n",
       "      <td>395</td>\n",
       "    </tr>\n",
       "    <tr>\n",
       "      <th>2</th>\n",
       "      <td>john</td>\n",
       "      <td>81</td>\n",
       "      <td>86</td>\n",
       "      <td>88</td>\n",
       "      <td>84</td>\n",
       "      <td>92</td>\n",
       "      <td>431</td>\n",
       "    </tr>\n",
       "    <tr>\n",
       "      <th>3</th>\n",
       "      <td>tony</td>\n",
       "      <td>84</td>\n",
       "      <td>86</td>\n",
       "      <td>87</td>\n",
       "      <td>82</td>\n",
       "      <td>81</td>\n",
       "      <td>420</td>\n",
       "    </tr>\n",
       "    <tr>\n",
       "      <th>4</th>\n",
       "      <td>scott</td>\n",
       "      <td>71</td>\n",
       "      <td>79</td>\n",
       "      <td>82</td>\n",
       "      <td>88</td>\n",
       "      <td>89</td>\n",
       "      <td>409</td>\n",
       "    </tr>\n",
       "  </tbody>\n",
       "</table>\n",
       "</div>"
      ],
      "text/plain": [
       "      name  maths  science  english  physics  general knowledge  totalmarks\n",
       "0    david     85       87       88       92                 88         440\n",
       "1  richard     91       81       78       71                 74         395\n",
       "2     john     81       86       88       84                 92         431\n",
       "3     tony     84       86       87       82                 81         420\n",
       "4    scott     71       79       82       88                 89         409"
      ]
     },
     "execution_count": 65,
     "metadata": {},
     "output_type": "execute_result"
    }
   ],
   "source": [
    "marks"
   ]
  },
  {
   "cell_type": "code",
   "execution_count": 66,
   "id": "5e4e56e2-57d2-4d26-a4b6-0a50c492101f",
   "metadata": {},
   "outputs": [],
   "source": [
    "marks[\"avarage\"]=marks[\"totalmarks\"]/500"
   ]
  },
  {
   "cell_type": "code",
   "execution_count": 67,
   "id": "9d4d5b4c-2e31-4805-b0ab-b260def7b8f4",
   "metadata": {},
   "outputs": [
    {
     "data": {
      "text/html": [
       "<div>\n",
       "<style scoped>\n",
       "    .dataframe tbody tr th:only-of-type {\n",
       "        vertical-align: middle;\n",
       "    }\n",
       "\n",
       "    .dataframe tbody tr th {\n",
       "        vertical-align: top;\n",
       "    }\n",
       "\n",
       "    .dataframe thead th {\n",
       "        text-align: right;\n",
       "    }\n",
       "</style>\n",
       "<table border=\"1\" class=\"dataframe\">\n",
       "  <thead>\n",
       "    <tr style=\"text-align: right;\">\n",
       "      <th></th>\n",
       "      <th>name</th>\n",
       "      <th>maths</th>\n",
       "      <th>science</th>\n",
       "      <th>english</th>\n",
       "      <th>physics</th>\n",
       "      <th>general knowledge</th>\n",
       "      <th>totalmarks</th>\n",
       "      <th>avarage</th>\n",
       "    </tr>\n",
       "  </thead>\n",
       "  <tbody>\n",
       "    <tr>\n",
       "      <th>0</th>\n",
       "      <td>david</td>\n",
       "      <td>85</td>\n",
       "      <td>87</td>\n",
       "      <td>88</td>\n",
       "      <td>92</td>\n",
       "      <td>88</td>\n",
       "      <td>440</td>\n",
       "      <td>0.880</td>\n",
       "    </tr>\n",
       "    <tr>\n",
       "      <th>1</th>\n",
       "      <td>richard</td>\n",
       "      <td>91</td>\n",
       "      <td>81</td>\n",
       "      <td>78</td>\n",
       "      <td>71</td>\n",
       "      <td>74</td>\n",
       "      <td>395</td>\n",
       "      <td>0.790</td>\n",
       "    </tr>\n",
       "    <tr>\n",
       "      <th>2</th>\n",
       "      <td>john</td>\n",
       "      <td>81</td>\n",
       "      <td>86</td>\n",
       "      <td>88</td>\n",
       "      <td>84</td>\n",
       "      <td>92</td>\n",
       "      <td>431</td>\n",
       "      <td>0.862</td>\n",
       "    </tr>\n",
       "    <tr>\n",
       "      <th>3</th>\n",
       "      <td>tony</td>\n",
       "      <td>84</td>\n",
       "      <td>86</td>\n",
       "      <td>87</td>\n",
       "      <td>82</td>\n",
       "      <td>81</td>\n",
       "      <td>420</td>\n",
       "      <td>0.840</td>\n",
       "    </tr>\n",
       "    <tr>\n",
       "      <th>4</th>\n",
       "      <td>scott</td>\n",
       "      <td>71</td>\n",
       "      <td>79</td>\n",
       "      <td>82</td>\n",
       "      <td>88</td>\n",
       "      <td>89</td>\n",
       "      <td>409</td>\n",
       "      <td>0.818</td>\n",
       "    </tr>\n",
       "  </tbody>\n",
       "</table>\n",
       "</div>"
      ],
      "text/plain": [
       "      name  maths  science  english  physics  general knowledge  totalmarks  \\\n",
       "0    david     85       87       88       92                 88         440   \n",
       "1  richard     91       81       78       71                 74         395   \n",
       "2     john     81       86       88       84                 92         431   \n",
       "3     tony     84       86       87       82                 81         420   \n",
       "4    scott     71       79       82       88                 89         409   \n",
       "\n",
       "   avarage  \n",
       "0    0.880  \n",
       "1    0.790  \n",
       "2    0.862  \n",
       "3    0.840  \n",
       "4    0.818  "
      ]
     },
     "execution_count": 67,
     "metadata": {},
     "output_type": "execute_result"
    }
   ],
   "source": [
    "marks"
   ]
  },
  {
   "cell_type": "code",
   "execution_count": 68,
   "id": "107fe921-47ae-4659-970b-41f5b0baead4",
   "metadata": {},
   "outputs": [],
   "source": [
    "marks[\"cgpa\"]=(marks[\"totalmarks\"]/50)"
   ]
  },
  {
   "cell_type": "code",
   "execution_count": 69,
   "id": "1cca02ef-b5ea-40db-bd1b-77ba5b1e8a20",
   "metadata": {},
   "outputs": [
    {
     "data": {
      "text/html": [
       "<div>\n",
       "<style scoped>\n",
       "    .dataframe tbody tr th:only-of-type {\n",
       "        vertical-align: middle;\n",
       "    }\n",
       "\n",
       "    .dataframe tbody tr th {\n",
       "        vertical-align: top;\n",
       "    }\n",
       "\n",
       "    .dataframe thead th {\n",
       "        text-align: right;\n",
       "    }\n",
       "</style>\n",
       "<table border=\"1\" class=\"dataframe\">\n",
       "  <thead>\n",
       "    <tr style=\"text-align: right;\">\n",
       "      <th></th>\n",
       "      <th>name</th>\n",
       "      <th>maths</th>\n",
       "      <th>science</th>\n",
       "      <th>english</th>\n",
       "      <th>physics</th>\n",
       "      <th>general knowledge</th>\n",
       "      <th>totalmarks</th>\n",
       "      <th>avarage</th>\n",
       "      <th>cgpa</th>\n",
       "    </tr>\n",
       "  </thead>\n",
       "  <tbody>\n",
       "    <tr>\n",
       "      <th>0</th>\n",
       "      <td>david</td>\n",
       "      <td>85</td>\n",
       "      <td>87</td>\n",
       "      <td>88</td>\n",
       "      <td>92</td>\n",
       "      <td>88</td>\n",
       "      <td>440</td>\n",
       "      <td>0.880</td>\n",
       "      <td>8.80</td>\n",
       "    </tr>\n",
       "    <tr>\n",
       "      <th>1</th>\n",
       "      <td>richard</td>\n",
       "      <td>91</td>\n",
       "      <td>81</td>\n",
       "      <td>78</td>\n",
       "      <td>71</td>\n",
       "      <td>74</td>\n",
       "      <td>395</td>\n",
       "      <td>0.790</td>\n",
       "      <td>7.90</td>\n",
       "    </tr>\n",
       "    <tr>\n",
       "      <th>2</th>\n",
       "      <td>john</td>\n",
       "      <td>81</td>\n",
       "      <td>86</td>\n",
       "      <td>88</td>\n",
       "      <td>84</td>\n",
       "      <td>92</td>\n",
       "      <td>431</td>\n",
       "      <td>0.862</td>\n",
       "      <td>8.62</td>\n",
       "    </tr>\n",
       "    <tr>\n",
       "      <th>3</th>\n",
       "      <td>tony</td>\n",
       "      <td>84</td>\n",
       "      <td>86</td>\n",
       "      <td>87</td>\n",
       "      <td>82</td>\n",
       "      <td>81</td>\n",
       "      <td>420</td>\n",
       "      <td>0.840</td>\n",
       "      <td>8.40</td>\n",
       "    </tr>\n",
       "    <tr>\n",
       "      <th>4</th>\n",
       "      <td>scott</td>\n",
       "      <td>71</td>\n",
       "      <td>79</td>\n",
       "      <td>82</td>\n",
       "      <td>88</td>\n",
       "      <td>89</td>\n",
       "      <td>409</td>\n",
       "      <td>0.818</td>\n",
       "      <td>8.18</td>\n",
       "    </tr>\n",
       "  </tbody>\n",
       "</table>\n",
       "</div>"
      ],
      "text/plain": [
       "      name  maths  science  english  physics  general knowledge  totalmarks  \\\n",
       "0    david     85       87       88       92                 88         440   \n",
       "1  richard     91       81       78       71                 74         395   \n",
       "2     john     81       86       88       84                 92         431   \n",
       "3     tony     84       86       87       82                 81         420   \n",
       "4    scott     71       79       82       88                 89         409   \n",
       "\n",
       "   avarage  cgpa  \n",
       "0    0.880  8.80  \n",
       "1    0.790  7.90  \n",
       "2    0.862  8.62  \n",
       "3    0.840  8.40  \n",
       "4    0.818  8.18  "
      ]
     },
     "execution_count": 69,
     "metadata": {},
     "output_type": "execute_result"
    }
   ],
   "source": [
    "marks"
   ]
  },
  {
   "cell_type": "code",
   "execution_count": 70,
   "id": "8f454a30-acde-4db9-a39e-88e52bd16d05",
   "metadata": {},
   "outputs": [],
   "source": [
    "marks[\"percentage\"]=marks[\"avarage\"]*100"
   ]
  },
  {
   "cell_type": "code",
   "execution_count": 71,
   "id": "f7a53fb7-dd86-479d-963e-73719a6e9cf7",
   "metadata": {},
   "outputs": [
    {
     "data": {
      "text/html": [
       "<div>\n",
       "<style scoped>\n",
       "    .dataframe tbody tr th:only-of-type {\n",
       "        vertical-align: middle;\n",
       "    }\n",
       "\n",
       "    .dataframe tbody tr th {\n",
       "        vertical-align: top;\n",
       "    }\n",
       "\n",
       "    .dataframe thead th {\n",
       "        text-align: right;\n",
       "    }\n",
       "</style>\n",
       "<table border=\"1\" class=\"dataframe\">\n",
       "  <thead>\n",
       "    <tr style=\"text-align: right;\">\n",
       "      <th></th>\n",
       "      <th>name</th>\n",
       "      <th>maths</th>\n",
       "      <th>science</th>\n",
       "      <th>english</th>\n",
       "      <th>physics</th>\n",
       "      <th>general knowledge</th>\n",
       "      <th>totalmarks</th>\n",
       "      <th>avarage</th>\n",
       "      <th>cgpa</th>\n",
       "      <th>percentage</th>\n",
       "    </tr>\n",
       "  </thead>\n",
       "  <tbody>\n",
       "    <tr>\n",
       "      <th>0</th>\n",
       "      <td>david</td>\n",
       "      <td>85</td>\n",
       "      <td>87</td>\n",
       "      <td>88</td>\n",
       "      <td>92</td>\n",
       "      <td>88</td>\n",
       "      <td>440</td>\n",
       "      <td>0.880</td>\n",
       "      <td>8.80</td>\n",
       "      <td>88.0</td>\n",
       "    </tr>\n",
       "    <tr>\n",
       "      <th>1</th>\n",
       "      <td>richard</td>\n",
       "      <td>91</td>\n",
       "      <td>81</td>\n",
       "      <td>78</td>\n",
       "      <td>71</td>\n",
       "      <td>74</td>\n",
       "      <td>395</td>\n",
       "      <td>0.790</td>\n",
       "      <td>7.90</td>\n",
       "      <td>79.0</td>\n",
       "    </tr>\n",
       "    <tr>\n",
       "      <th>2</th>\n",
       "      <td>john</td>\n",
       "      <td>81</td>\n",
       "      <td>86</td>\n",
       "      <td>88</td>\n",
       "      <td>84</td>\n",
       "      <td>92</td>\n",
       "      <td>431</td>\n",
       "      <td>0.862</td>\n",
       "      <td>8.62</td>\n",
       "      <td>86.2</td>\n",
       "    </tr>\n",
       "    <tr>\n",
       "      <th>3</th>\n",
       "      <td>tony</td>\n",
       "      <td>84</td>\n",
       "      <td>86</td>\n",
       "      <td>87</td>\n",
       "      <td>82</td>\n",
       "      <td>81</td>\n",
       "      <td>420</td>\n",
       "      <td>0.840</td>\n",
       "      <td>8.40</td>\n",
       "      <td>84.0</td>\n",
       "    </tr>\n",
       "    <tr>\n",
       "      <th>4</th>\n",
       "      <td>scott</td>\n",
       "      <td>71</td>\n",
       "      <td>79</td>\n",
       "      <td>82</td>\n",
       "      <td>88</td>\n",
       "      <td>89</td>\n",
       "      <td>409</td>\n",
       "      <td>0.818</td>\n",
       "      <td>8.18</td>\n",
       "      <td>81.8</td>\n",
       "    </tr>\n",
       "  </tbody>\n",
       "</table>\n",
       "</div>"
      ],
      "text/plain": [
       "      name  maths  science  english  physics  general knowledge  totalmarks  \\\n",
       "0    david     85       87       88       92                 88         440   \n",
       "1  richard     91       81       78       71                 74         395   \n",
       "2     john     81       86       88       84                 92         431   \n",
       "3     tony     84       86       87       82                 81         420   \n",
       "4    scott     71       79       82       88                 89         409   \n",
       "\n",
       "   avarage  cgpa  percentage  \n",
       "0    0.880  8.80        88.0  \n",
       "1    0.790  7.90        79.0  \n",
       "2    0.862  8.62        86.2  \n",
       "3    0.840  8.40        84.0  \n",
       "4    0.818  8.18        81.8  "
      ]
     },
     "execution_count": 71,
     "metadata": {},
     "output_type": "execute_result"
    }
   ],
   "source": [
    "marks"
   ]
  },
  {
   "cell_type": "code",
   "execution_count": 72,
   "id": "c4dfc1da-85f9-4432-bd00-8eac852933c8",
   "metadata": {},
   "outputs": [],
   "source": [
    "marksheet1=pd.read_excel(r\"C:\\Users\\admin\\Documents\\nandu python\\Mrks_data (5).xlsx\")"
   ]
  },
  {
   "cell_type": "code",
   "execution_count": 73,
   "id": "7dc6c659-3583-44c4-9672-295f623fba88",
   "metadata": {},
   "outputs": [
    {
     "data": {
      "text/html": [
       "<div>\n",
       "<style scoped>\n",
       "    .dataframe tbody tr th:only-of-type {\n",
       "        vertical-align: middle;\n",
       "    }\n",
       "\n",
       "    .dataframe tbody tr th {\n",
       "        vertical-align: top;\n",
       "    }\n",
       "\n",
       "    .dataframe thead th {\n",
       "        text-align: right;\n",
       "    }\n",
       "</style>\n",
       "<table border=\"1\" class=\"dataframe\">\n",
       "  <thead>\n",
       "    <tr style=\"text-align: right;\">\n",
       "      <th></th>\n",
       "      <th>Name</th>\n",
       "      <th>Age</th>\n",
       "      <th>City</th>\n",
       "      <th>Qualification</th>\n",
       "    </tr>\n",
       "  </thead>\n",
       "  <tbody>\n",
       "    <tr>\n",
       "      <th>0</th>\n",
       "      <td>Amal</td>\n",
       "      <td>22</td>\n",
       "      <td>Kannur</td>\n",
       "      <td>PHD</td>\n",
       "    </tr>\n",
       "    <tr>\n",
       "      <th>1</th>\n",
       "      <td>Ammu</td>\n",
       "      <td>26</td>\n",
       "      <td>Pmna</td>\n",
       "      <td>Plus two</td>\n",
       "    </tr>\n",
       "    <tr>\n",
       "      <th>2</th>\n",
       "      <td>Arya</td>\n",
       "      <td>24</td>\n",
       "      <td>Thrissur</td>\n",
       "      <td>Degree</td>\n",
       "    </tr>\n",
       "    <tr>\n",
       "      <th>3</th>\n",
       "      <td>Sreeraj</td>\n",
       "      <td>22</td>\n",
       "      <td>Kozhikode</td>\n",
       "      <td>BBA</td>\n",
       "    </tr>\n",
       "    <tr>\n",
       "      <th>4</th>\n",
       "      <td>Arundathi</td>\n",
       "      <td>21</td>\n",
       "      <td>Ekm</td>\n",
       "      <td>BCA</td>\n",
       "    </tr>\n",
       "    <tr>\n",
       "      <th>5</th>\n",
       "      <td>Vipin</td>\n",
       "      <td>25</td>\n",
       "      <td>Shornur</td>\n",
       "      <td>BA</td>\n",
       "    </tr>\n",
       "    <tr>\n",
       "      <th>6</th>\n",
       "      <td>Nithin</td>\n",
       "      <td>22</td>\n",
       "      <td>Nilambur</td>\n",
       "      <td>Bsc</td>\n",
       "    </tr>\n",
       "    <tr>\n",
       "      <th>7</th>\n",
       "      <td>Karun</td>\n",
       "      <td>23</td>\n",
       "      <td>Kozhikode</td>\n",
       "      <td>Bsc</td>\n",
       "    </tr>\n",
       "  </tbody>\n",
       "</table>\n",
       "</div>"
      ],
      "text/plain": [
       "        Name  Age        City Qualification\n",
       "0       Amal    22     Kannur           PHD\n",
       "1       Ammu    26       Pmna      Plus two\n",
       "2       Arya    24   Thrissur        Degree\n",
       "3    Sreeraj    22  Kozhikode           BBA\n",
       "4  Arundathi    21        Ekm           BCA\n",
       "5      Vipin    25    Shornur            BA\n",
       "6     Nithin    22   Nilambur           Bsc\n",
       "7      Karun    23  Kozhikode           Bsc"
      ]
     },
     "execution_count": 73,
     "metadata": {},
     "output_type": "execute_result"
    }
   ],
   "source": [
    "marksheet1"
   ]
  },
  {
   "cell_type": "code",
   "execution_count": 74,
   "id": "4e728716-32c3-47b6-abc3-49c13c3a4a7c",
   "metadata": {},
   "outputs": [],
   "source": [
    "marksheet3=pd.read_excel(r\"C:\\Users\\admin\\Documents\\nandu python\\Mrks_data (5).xlsx\",sheet_name=[\"DA1\",\"DA2\"])"
   ]
  },
  {
   "cell_type": "code",
   "execution_count": 75,
   "id": "67af9c0c-73f3-4c59-a2c4-d1b2022423cb",
   "metadata": {},
   "outputs": [
    {
     "data": {
      "text/plain": [
       "{'DA1':         Name  Age        City Qualification\n",
       " 0       Amal    22     Kannur           PHD\n",
       " 1       Ammu    26       Pmna      Plus two\n",
       " 2       Arya    24   Thrissur        Degree\n",
       " 3    Sreeraj    22  Kozhikode           BBA\n",
       " 4  Arundathi    21        Ekm           BCA\n",
       " 5      Vipin    25    Shornur            BA\n",
       " 6     Nithin    22   Nilambur           Bsc\n",
       " 7      Karun    23  Kozhikode           Bsc,\n",
       " 'DA2':       Name  Age         City Qualification\n",
       " 0   Anagha    22      Kannur      Plus two\n",
       " 1     Anil    20  Trivandrum        Degree\n",
       " 2     Diya    25   Kozhikode           BCA\n",
       " 3    Deepa    24    Palakkad           BBA\n",
       " 4   Nalini    23        Pmna           MCA\n",
       " 5  Adithya    22    Thrissur           PHD}"
      ]
     },
     "execution_count": 75,
     "metadata": {},
     "output_type": "execute_result"
    }
   ],
   "source": [
    "marksheet3"
   ]
  },
  {
   "cell_type": "code",
   "execution_count": 76,
   "id": "2716cbe3-f66c-472d-a5cc-101a8503d7da",
   "metadata": {},
   "outputs": [],
   "source": [
    "iris=pd.read_excel(r\"C:\\Users\\admin\\Documents\\nandu python\\iris (2).xls\")"
   ]
  },
  {
   "cell_type": "code",
   "execution_count": 77,
   "id": "5a6f608a-e4fc-40db-aaca-b64e3e25d3ba",
   "metadata": {},
   "outputs": [
    {
     "data": {
      "text/html": [
       "<div>\n",
       "<style scoped>\n",
       "    .dataframe tbody tr th:only-of-type {\n",
       "        vertical-align: middle;\n",
       "    }\n",
       "\n",
       "    .dataframe tbody tr th {\n",
       "        vertical-align: top;\n",
       "    }\n",
       "\n",
       "    .dataframe thead th {\n",
       "        text-align: right;\n",
       "    }\n",
       "</style>\n",
       "<table border=\"1\" class=\"dataframe\">\n",
       "  <thead>\n",
       "    <tr style=\"text-align: right;\">\n",
       "      <th></th>\n",
       "      <th>SL</th>\n",
       "      <th>SW</th>\n",
       "      <th>PL</th>\n",
       "      <th>PW</th>\n",
       "      <th>Classification</th>\n",
       "    </tr>\n",
       "  </thead>\n",
       "  <tbody>\n",
       "    <tr>\n",
       "      <th>0</th>\n",
       "      <td>5.1</td>\n",
       "      <td>3.5</td>\n",
       "      <td>1.4</td>\n",
       "      <td>0.2</td>\n",
       "      <td>Iris-setosa</td>\n",
       "    </tr>\n",
       "    <tr>\n",
       "      <th>1</th>\n",
       "      <td>4.9</td>\n",
       "      <td>3.0</td>\n",
       "      <td>1.4</td>\n",
       "      <td>0.2</td>\n",
       "      <td>Iris-setosa</td>\n",
       "    </tr>\n",
       "    <tr>\n",
       "      <th>2</th>\n",
       "      <td>NaN</td>\n",
       "      <td>3.2</td>\n",
       "      <td>1.3</td>\n",
       "      <td>0.2</td>\n",
       "      <td>Iris-setosa</td>\n",
       "    </tr>\n",
       "    <tr>\n",
       "      <th>3</th>\n",
       "      <td>4.6</td>\n",
       "      <td>3.1</td>\n",
       "      <td>1.5</td>\n",
       "      <td>0.2</td>\n",
       "      <td>Iris-setosa</td>\n",
       "    </tr>\n",
       "    <tr>\n",
       "      <th>4</th>\n",
       "      <td>5.0</td>\n",
       "      <td>3.6</td>\n",
       "      <td>1.4</td>\n",
       "      <td>0.2</td>\n",
       "      <td>Iris-setosa</td>\n",
       "    </tr>\n",
       "    <tr>\n",
       "      <th>...</th>\n",
       "      <td>...</td>\n",
       "      <td>...</td>\n",
       "      <td>...</td>\n",
       "      <td>...</td>\n",
       "      <td>...</td>\n",
       "    </tr>\n",
       "    <tr>\n",
       "      <th>145</th>\n",
       "      <td>6.7</td>\n",
       "      <td>3.0</td>\n",
       "      <td>5.2</td>\n",
       "      <td>2.3</td>\n",
       "      <td>Iris-virginica</td>\n",
       "    </tr>\n",
       "    <tr>\n",
       "      <th>146</th>\n",
       "      <td>6.3</td>\n",
       "      <td>2.5</td>\n",
       "      <td>5.0</td>\n",
       "      <td>1.9</td>\n",
       "      <td>Iris-virginica</td>\n",
       "    </tr>\n",
       "    <tr>\n",
       "      <th>147</th>\n",
       "      <td>6.5</td>\n",
       "      <td>3.0</td>\n",
       "      <td>NaN</td>\n",
       "      <td>2.0</td>\n",
       "      <td>Iris-virginica</td>\n",
       "    </tr>\n",
       "    <tr>\n",
       "      <th>148</th>\n",
       "      <td>6.2</td>\n",
       "      <td>3.4</td>\n",
       "      <td>5.4</td>\n",
       "      <td>2.3</td>\n",
       "      <td>Iris-virginica</td>\n",
       "    </tr>\n",
       "    <tr>\n",
       "      <th>149</th>\n",
       "      <td>5.9</td>\n",
       "      <td>3.0</td>\n",
       "      <td>5.1</td>\n",
       "      <td>1.8</td>\n",
       "      <td>Iris-virginica</td>\n",
       "    </tr>\n",
       "  </tbody>\n",
       "</table>\n",
       "<p>150 rows × 5 columns</p>\n",
       "</div>"
      ],
      "text/plain": [
       "      SL   SW   PL   PW  Classification\n",
       "0    5.1  3.5  1.4  0.2     Iris-setosa\n",
       "1    4.9  3.0  1.4  0.2     Iris-setosa\n",
       "2    NaN  3.2  1.3  0.2     Iris-setosa\n",
       "3    4.6  3.1  1.5  0.2     Iris-setosa\n",
       "4    5.0  3.6  1.4  0.2     Iris-setosa\n",
       "..   ...  ...  ...  ...             ...\n",
       "145  6.7  3.0  5.2  2.3  Iris-virginica\n",
       "146  6.3  2.5  5.0  1.9  Iris-virginica\n",
       "147  6.5  3.0  NaN  2.0  Iris-virginica\n",
       "148  6.2  3.4  5.4  2.3  Iris-virginica\n",
       "149  5.9  3.0  5.1  1.8  Iris-virginica\n",
       "\n",
       "[150 rows x 5 columns]"
      ]
     },
     "execution_count": 77,
     "metadata": {},
     "output_type": "execute_result"
    }
   ],
   "source": [
    "iris"
   ]
  },
  {
   "cell_type": "code",
   "execution_count": 78,
   "id": "cf437893-ebd7-4dad-9bf9-678aab8eb0be",
   "metadata": {},
   "outputs": [
    {
     "data": {
      "text/html": [
       "<div>\n",
       "<style scoped>\n",
       "    .dataframe tbody tr th:only-of-type {\n",
       "        vertical-align: middle;\n",
       "    }\n",
       "\n",
       "    .dataframe tbody tr th {\n",
       "        vertical-align: top;\n",
       "    }\n",
       "\n",
       "    .dataframe thead th {\n",
       "        text-align: right;\n",
       "    }\n",
       "</style>\n",
       "<table border=\"1\" class=\"dataframe\">\n",
       "  <thead>\n",
       "    <tr style=\"text-align: right;\">\n",
       "      <th></th>\n",
       "      <th>SL</th>\n",
       "      <th>SW</th>\n",
       "      <th>PL</th>\n",
       "      <th>PW</th>\n",
       "      <th>Classification</th>\n",
       "    </tr>\n",
       "  </thead>\n",
       "  <tbody>\n",
       "    <tr>\n",
       "      <th>0</th>\n",
       "      <td>5.1</td>\n",
       "      <td>3.5</td>\n",
       "      <td>1.4</td>\n",
       "      <td>0.2</td>\n",
       "      <td>Iris-setosa</td>\n",
       "    </tr>\n",
       "    <tr>\n",
       "      <th>1</th>\n",
       "      <td>4.9</td>\n",
       "      <td>3.0</td>\n",
       "      <td>1.4</td>\n",
       "      <td>0.2</td>\n",
       "      <td>Iris-setosa</td>\n",
       "    </tr>\n",
       "    <tr>\n",
       "      <th>2</th>\n",
       "      <td>NaN</td>\n",
       "      <td>3.2</td>\n",
       "      <td>1.3</td>\n",
       "      <td>0.2</td>\n",
       "      <td>Iris-setosa</td>\n",
       "    </tr>\n",
       "    <tr>\n",
       "      <th>3</th>\n",
       "      <td>4.6</td>\n",
       "      <td>3.1</td>\n",
       "      <td>1.5</td>\n",
       "      <td>0.2</td>\n",
       "      <td>Iris-setosa</td>\n",
       "    </tr>\n",
       "    <tr>\n",
       "      <th>4</th>\n",
       "      <td>5.0</td>\n",
       "      <td>3.6</td>\n",
       "      <td>1.4</td>\n",
       "      <td>0.2</td>\n",
       "      <td>Iris-setosa</td>\n",
       "    </tr>\n",
       "    <tr>\n",
       "      <th>5</th>\n",
       "      <td>5.4</td>\n",
       "      <td>3.9</td>\n",
       "      <td>1.7</td>\n",
       "      <td>0.4</td>\n",
       "      <td>Iris-setosa</td>\n",
       "    </tr>\n",
       "    <tr>\n",
       "      <th>6</th>\n",
       "      <td>4.6</td>\n",
       "      <td>3.4</td>\n",
       "      <td>1.4</td>\n",
       "      <td>0.3</td>\n",
       "      <td>Iris-setosa</td>\n",
       "    </tr>\n",
       "    <tr>\n",
       "      <th>7</th>\n",
       "      <td>5.0</td>\n",
       "      <td>3.4</td>\n",
       "      <td>1.5</td>\n",
       "      <td>0.2</td>\n",
       "      <td>Iris-setosa</td>\n",
       "    </tr>\n",
       "    <tr>\n",
       "      <th>8</th>\n",
       "      <td>4.4</td>\n",
       "      <td>2.9</td>\n",
       "      <td>1.4</td>\n",
       "      <td>0.2</td>\n",
       "      <td>Iris-setosa</td>\n",
       "    </tr>\n",
       "    <tr>\n",
       "      <th>9</th>\n",
       "      <td>4.9</td>\n",
       "      <td>3.1</td>\n",
       "      <td>1.5</td>\n",
       "      <td>0.1</td>\n",
       "      <td>Iris-setosa</td>\n",
       "    </tr>\n",
       "  </tbody>\n",
       "</table>\n",
       "</div>"
      ],
      "text/plain": [
       "    SL   SW   PL   PW Classification\n",
       "0  5.1  3.5  1.4  0.2    Iris-setosa\n",
       "1  4.9  3.0  1.4  0.2    Iris-setosa\n",
       "2  NaN  3.2  1.3  0.2    Iris-setosa\n",
       "3  4.6  3.1  1.5  0.2    Iris-setosa\n",
       "4  5.0  3.6  1.4  0.2    Iris-setosa\n",
       "5  5.4  3.9  1.7  0.4    Iris-setosa\n",
       "6  4.6  3.4  1.4  0.3    Iris-setosa\n",
       "7  5.0  3.4  1.5  0.2    Iris-setosa\n",
       "8  4.4  2.9  1.4  0.2    Iris-setosa\n",
       "9  4.9  3.1  1.5  0.1    Iris-setosa"
      ]
     },
     "execution_count": 78,
     "metadata": {},
     "output_type": "execute_result"
    }
   ],
   "source": [
    "iris.head(10)"
   ]
  },
  {
   "cell_type": "code",
   "execution_count": 79,
   "id": "e138b840-2e85-4d04-b849-ad9ee69bec87",
   "metadata": {},
   "outputs": [
    {
     "data": {
      "text/html": [
       "<div>\n",
       "<style scoped>\n",
       "    .dataframe tbody tr th:only-of-type {\n",
       "        vertical-align: middle;\n",
       "    }\n",
       "\n",
       "    .dataframe tbody tr th {\n",
       "        vertical-align: top;\n",
       "    }\n",
       "\n",
       "    .dataframe thead th {\n",
       "        text-align: right;\n",
       "    }\n",
       "</style>\n",
       "<table border=\"1\" class=\"dataframe\">\n",
       "  <thead>\n",
       "    <tr style=\"text-align: right;\">\n",
       "      <th></th>\n",
       "      <th>SL</th>\n",
       "      <th>SW</th>\n",
       "      <th>PL</th>\n",
       "      <th>PW</th>\n",
       "      <th>Classification</th>\n",
       "    </tr>\n",
       "  </thead>\n",
       "  <tbody>\n",
       "    <tr>\n",
       "      <th>140</th>\n",
       "      <td>6.7</td>\n",
       "      <td>3.1</td>\n",
       "      <td>5.6</td>\n",
       "      <td>2.4</td>\n",
       "      <td>Iris-virginica</td>\n",
       "    </tr>\n",
       "    <tr>\n",
       "      <th>141</th>\n",
       "      <td>NaN</td>\n",
       "      <td>3.1</td>\n",
       "      <td>5.1</td>\n",
       "      <td>2.3</td>\n",
       "      <td>Iris-virginica</td>\n",
       "    </tr>\n",
       "    <tr>\n",
       "      <th>142</th>\n",
       "      <td>5.8</td>\n",
       "      <td>2.7</td>\n",
       "      <td>5.1</td>\n",
       "      <td>1.9</td>\n",
       "      <td>Iris-virginica</td>\n",
       "    </tr>\n",
       "    <tr>\n",
       "      <th>143</th>\n",
       "      <td>6.8</td>\n",
       "      <td>3.2</td>\n",
       "      <td>5.9</td>\n",
       "      <td>2.3</td>\n",
       "      <td>Iris-virginica</td>\n",
       "    </tr>\n",
       "    <tr>\n",
       "      <th>144</th>\n",
       "      <td>6.7</td>\n",
       "      <td>3.3</td>\n",
       "      <td>5.7</td>\n",
       "      <td>2.5</td>\n",
       "      <td>Iris-virginica</td>\n",
       "    </tr>\n",
       "    <tr>\n",
       "      <th>145</th>\n",
       "      <td>6.7</td>\n",
       "      <td>3.0</td>\n",
       "      <td>5.2</td>\n",
       "      <td>2.3</td>\n",
       "      <td>Iris-virginica</td>\n",
       "    </tr>\n",
       "    <tr>\n",
       "      <th>146</th>\n",
       "      <td>6.3</td>\n",
       "      <td>2.5</td>\n",
       "      <td>5.0</td>\n",
       "      <td>1.9</td>\n",
       "      <td>Iris-virginica</td>\n",
       "    </tr>\n",
       "    <tr>\n",
       "      <th>147</th>\n",
       "      <td>6.5</td>\n",
       "      <td>3.0</td>\n",
       "      <td>NaN</td>\n",
       "      <td>2.0</td>\n",
       "      <td>Iris-virginica</td>\n",
       "    </tr>\n",
       "    <tr>\n",
       "      <th>148</th>\n",
       "      <td>6.2</td>\n",
       "      <td>3.4</td>\n",
       "      <td>5.4</td>\n",
       "      <td>2.3</td>\n",
       "      <td>Iris-virginica</td>\n",
       "    </tr>\n",
       "    <tr>\n",
       "      <th>149</th>\n",
       "      <td>5.9</td>\n",
       "      <td>3.0</td>\n",
       "      <td>5.1</td>\n",
       "      <td>1.8</td>\n",
       "      <td>Iris-virginica</td>\n",
       "    </tr>\n",
       "  </tbody>\n",
       "</table>\n",
       "</div>"
      ],
      "text/plain": [
       "      SL   SW   PL   PW  Classification\n",
       "140  6.7  3.1  5.6  2.4  Iris-virginica\n",
       "141  NaN  3.1  5.1  2.3  Iris-virginica\n",
       "142  5.8  2.7  5.1  1.9  Iris-virginica\n",
       "143  6.8  3.2  5.9  2.3  Iris-virginica\n",
       "144  6.7  3.3  5.7  2.5  Iris-virginica\n",
       "145  6.7  3.0  5.2  2.3  Iris-virginica\n",
       "146  6.3  2.5  5.0  1.9  Iris-virginica\n",
       "147  6.5  3.0  NaN  2.0  Iris-virginica\n",
       "148  6.2  3.4  5.4  2.3  Iris-virginica\n",
       "149  5.9  3.0  5.1  1.8  Iris-virginica"
      ]
     },
     "execution_count": 79,
     "metadata": {},
     "output_type": "execute_result"
    }
   ],
   "source": [
    "iris.tail(10)"
   ]
  },
  {
   "cell_type": "code",
   "execution_count": 80,
   "id": "e65b356d-a46d-403b-8884-346cb8a5fcf2",
   "metadata": {},
   "outputs": [
    {
     "data": {
      "text/plain": [
       "SL                7\n",
       "SW                6\n",
       "PL                6\n",
       "PW                0\n",
       "Classification    0\n",
       "dtype: int64"
      ]
     },
     "execution_count": 80,
     "metadata": {},
     "output_type": "execute_result"
    }
   ],
   "source": [
    "iris.isna().sum()"
   ]
  },
  {
   "cell_type": "code",
   "execution_count": 81,
   "id": "9d017eed-2b8d-463d-a640-96a87a7851fa",
   "metadata": {},
   "outputs": [
    {
     "data": {
      "text/html": [
       "<div>\n",
       "<style scoped>\n",
       "    .dataframe tbody tr th:only-of-type {\n",
       "        vertical-align: middle;\n",
       "    }\n",
       "\n",
       "    .dataframe tbody tr th {\n",
       "        vertical-align: top;\n",
       "    }\n",
       "\n",
       "    .dataframe thead th {\n",
       "        text-align: right;\n",
       "    }\n",
       "</style>\n",
       "<table border=\"1\" class=\"dataframe\">\n",
       "  <thead>\n",
       "    <tr style=\"text-align: right;\">\n",
       "      <th></th>\n",
       "      <th>SL</th>\n",
       "      <th>SW</th>\n",
       "      <th>PL</th>\n",
       "      <th>PW</th>\n",
       "      <th>Classification</th>\n",
       "    </tr>\n",
       "  </thead>\n",
       "  <tbody>\n",
       "    <tr>\n",
       "      <th>2</th>\n",
       "      <td>NaN</td>\n",
       "      <td>3.2</td>\n",
       "      <td>1.3</td>\n",
       "      <td>0.2</td>\n",
       "      <td>Iris-setosa</td>\n",
       "    </tr>\n",
       "    <tr>\n",
       "      <th>21</th>\n",
       "      <td>NaN</td>\n",
       "      <td>3.7</td>\n",
       "      <td>1.5</td>\n",
       "      <td>0.4</td>\n",
       "      <td>Iris-setosa</td>\n",
       "    </tr>\n",
       "    <tr>\n",
       "      <th>39</th>\n",
       "      <td>NaN</td>\n",
       "      <td>3.4</td>\n",
       "      <td>1.5</td>\n",
       "      <td>0.2</td>\n",
       "      <td>Iris-setosa</td>\n",
       "    </tr>\n",
       "    <tr>\n",
       "      <th>51</th>\n",
       "      <td>NaN</td>\n",
       "      <td>3.2</td>\n",
       "      <td>4.5</td>\n",
       "      <td>1.5</td>\n",
       "      <td>Iris-versicolor</td>\n",
       "    </tr>\n",
       "    <tr>\n",
       "      <th>85</th>\n",
       "      <td>NaN</td>\n",
       "      <td>3.4</td>\n",
       "      <td>4.5</td>\n",
       "      <td>1.6</td>\n",
       "      <td>Iris-versicolor</td>\n",
       "    </tr>\n",
       "    <tr>\n",
       "      <th>106</th>\n",
       "      <td>NaN</td>\n",
       "      <td>2.5</td>\n",
       "      <td>4.5</td>\n",
       "      <td>1.7</td>\n",
       "      <td>Iris-virginica</td>\n",
       "    </tr>\n",
       "    <tr>\n",
       "      <th>141</th>\n",
       "      <td>NaN</td>\n",
       "      <td>3.1</td>\n",
       "      <td>5.1</td>\n",
       "      <td>2.3</td>\n",
       "      <td>Iris-virginica</td>\n",
       "    </tr>\n",
       "  </tbody>\n",
       "</table>\n",
       "</div>"
      ],
      "text/plain": [
       "     SL   SW   PL   PW   Classification\n",
       "2   NaN  3.2  1.3  0.2      Iris-setosa\n",
       "21  NaN  3.7  1.5  0.4      Iris-setosa\n",
       "39  NaN  3.4  1.5  0.2      Iris-setosa\n",
       "51  NaN  3.2  4.5  1.5  Iris-versicolor\n",
       "85  NaN  3.4  4.5  1.6  Iris-versicolor\n",
       "106 NaN  2.5  4.5  1.7   Iris-virginica\n",
       "141 NaN  3.1  5.1  2.3   Iris-virginica"
      ]
     },
     "execution_count": 81,
     "metadata": {},
     "output_type": "execute_result"
    }
   ],
   "source": [
    "iris[iris[\"SL\"].isna()]"
   ]
  },
  {
   "cell_type": "code",
   "execution_count": 82,
   "id": "dcf7618b-3649-4a98-808f-6019ec5c3965",
   "metadata": {},
   "outputs": [
    {
     "data": {
      "text/html": [
       "<div>\n",
       "<style scoped>\n",
       "    .dataframe tbody tr th:only-of-type {\n",
       "        vertical-align: middle;\n",
       "    }\n",
       "\n",
       "    .dataframe tbody tr th {\n",
       "        vertical-align: top;\n",
       "    }\n",
       "\n",
       "    .dataframe thead th {\n",
       "        text-align: right;\n",
       "    }\n",
       "</style>\n",
       "<table border=\"1\" class=\"dataframe\">\n",
       "  <thead>\n",
       "    <tr style=\"text-align: right;\">\n",
       "      <th></th>\n",
       "      <th>SL</th>\n",
       "      <th>SW</th>\n",
       "      <th>PL</th>\n",
       "      <th>PW</th>\n",
       "      <th>Classification</th>\n",
       "    </tr>\n",
       "  </thead>\n",
       "  <tbody>\n",
       "    <tr>\n",
       "      <th>10</th>\n",
       "      <td>5.4</td>\n",
       "      <td>NaN</td>\n",
       "      <td>1.5</td>\n",
       "      <td>0.2</td>\n",
       "      <td>Iris-setosa</td>\n",
       "    </tr>\n",
       "    <tr>\n",
       "      <th>27</th>\n",
       "      <td>5.2</td>\n",
       "      <td>NaN</td>\n",
       "      <td>1.5</td>\n",
       "      <td>0.2</td>\n",
       "      <td>Iris-setosa</td>\n",
       "    </tr>\n",
       "    <tr>\n",
       "      <th>43</th>\n",
       "      <td>5.0</td>\n",
       "      <td>NaN</td>\n",
       "      <td>1.6</td>\n",
       "      <td>0.6</td>\n",
       "      <td>Iris-setosa</td>\n",
       "    </tr>\n",
       "    <tr>\n",
       "      <th>72</th>\n",
       "      <td>6.3</td>\n",
       "      <td>NaN</td>\n",
       "      <td>4.9</td>\n",
       "      <td>1.5</td>\n",
       "      <td>Iris-versicolor</td>\n",
       "    </tr>\n",
       "    <tr>\n",
       "      <th>98</th>\n",
       "      <td>5.1</td>\n",
       "      <td>NaN</td>\n",
       "      <td>3.0</td>\n",
       "      <td>1.1</td>\n",
       "      <td>Iris-versicolor</td>\n",
       "    </tr>\n",
       "    <tr>\n",
       "      <th>124</th>\n",
       "      <td>6.7</td>\n",
       "      <td>NaN</td>\n",
       "      <td>5.7</td>\n",
       "      <td>2.1</td>\n",
       "      <td>Iris-virginica</td>\n",
       "    </tr>\n",
       "  </tbody>\n",
       "</table>\n",
       "</div>"
      ],
      "text/plain": [
       "      SL  SW   PL   PW   Classification\n",
       "10   5.4 NaN  1.5  0.2      Iris-setosa\n",
       "27   5.2 NaN  1.5  0.2      Iris-setosa\n",
       "43   5.0 NaN  1.6  0.6      Iris-setosa\n",
       "72   6.3 NaN  4.9  1.5  Iris-versicolor\n",
       "98   5.1 NaN  3.0  1.1  Iris-versicolor\n",
       "124  6.7 NaN  5.7  2.1   Iris-virginica"
      ]
     },
     "execution_count": 82,
     "metadata": {},
     "output_type": "execute_result"
    }
   ],
   "source": [
    "iris[iris[\"SW\"].isna()]"
   ]
  },
  {
   "cell_type": "code",
   "execution_count": 83,
   "id": "c8ac877d-c10c-48eb-91cb-1d64b66d514e",
   "metadata": {},
   "outputs": [
    {
     "data": {
      "text/html": [
       "<div>\n",
       "<style scoped>\n",
       "    .dataframe tbody tr th:only-of-type {\n",
       "        vertical-align: middle;\n",
       "    }\n",
       "\n",
       "    .dataframe tbody tr th {\n",
       "        vertical-align: top;\n",
       "    }\n",
       "\n",
       "    .dataframe thead th {\n",
       "        text-align: right;\n",
       "    }\n",
       "</style>\n",
       "<table border=\"1\" class=\"dataframe\">\n",
       "  <thead>\n",
       "    <tr style=\"text-align: right;\">\n",
       "      <th></th>\n",
       "      <th>SL</th>\n",
       "      <th>SW</th>\n",
       "      <th>PL</th>\n",
       "      <th>PW</th>\n",
       "      <th>Classification</th>\n",
       "    </tr>\n",
       "  </thead>\n",
       "  <tbody>\n",
       "    <tr>\n",
       "      <th>28</th>\n",
       "      <td>5.2</td>\n",
       "      <td>3.4</td>\n",
       "      <td>NaN</td>\n",
       "      <td>0.2</td>\n",
       "      <td>Iris-setosa</td>\n",
       "    </tr>\n",
       "    <tr>\n",
       "      <th>42</th>\n",
       "      <td>4.4</td>\n",
       "      <td>3.2</td>\n",
       "      <td>NaN</td>\n",
       "      <td>0.2</td>\n",
       "      <td>Iris-setosa</td>\n",
       "    </tr>\n",
       "    <tr>\n",
       "      <th>56</th>\n",
       "      <td>6.3</td>\n",
       "      <td>3.3</td>\n",
       "      <td>NaN</td>\n",
       "      <td>1.6</td>\n",
       "      <td>Iris-versicolor</td>\n",
       "    </tr>\n",
       "    <tr>\n",
       "      <th>94</th>\n",
       "      <td>5.6</td>\n",
       "      <td>2.7</td>\n",
       "      <td>NaN</td>\n",
       "      <td>1.3</td>\n",
       "      <td>Iris-versicolor</td>\n",
       "    </tr>\n",
       "    <tr>\n",
       "      <th>109</th>\n",
       "      <td>7.2</td>\n",
       "      <td>3.6</td>\n",
       "      <td>NaN</td>\n",
       "      <td>2.5</td>\n",
       "      <td>Iris-virginica</td>\n",
       "    </tr>\n",
       "    <tr>\n",
       "      <th>147</th>\n",
       "      <td>6.5</td>\n",
       "      <td>3.0</td>\n",
       "      <td>NaN</td>\n",
       "      <td>2.0</td>\n",
       "      <td>Iris-virginica</td>\n",
       "    </tr>\n",
       "  </tbody>\n",
       "</table>\n",
       "</div>"
      ],
      "text/plain": [
       "      SL   SW  PL   PW   Classification\n",
       "28   5.2  3.4 NaN  0.2      Iris-setosa\n",
       "42   4.4  3.2 NaN  0.2      Iris-setosa\n",
       "56   6.3  3.3 NaN  1.6  Iris-versicolor\n",
       "94   5.6  2.7 NaN  1.3  Iris-versicolor\n",
       "109  7.2  3.6 NaN  2.5   Iris-virginica\n",
       "147  6.5  3.0 NaN  2.0   Iris-virginica"
      ]
     },
     "execution_count": 83,
     "metadata": {},
     "output_type": "execute_result"
    }
   ],
   "source": [
    "iris[iris[\"PL\"].isna()]"
   ]
  }
 ],
 "metadata": {
  "kernelspec": {
   "display_name": "Python 3 (ipykernel)",
   "language": "python",
   "name": "python3"
  },
  "language_info": {
   "codemirror_mode": {
    "name": "ipython",
    "version": 3
   },
   "file_extension": ".py",
   "mimetype": "text/x-python",
   "name": "python",
   "nbconvert_exporter": "python",
   "pygments_lexer": "ipython3",
   "version": "3.11.7"
  }
 },
 "nbformat": 4,
 "nbformat_minor": 5
}
